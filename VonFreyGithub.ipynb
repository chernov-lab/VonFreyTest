{
 "cells": [
  {
   "cell_type": "markdown",
   "id": "78ccca2e",
   "metadata": {},
   "source": [
    "# R-VonFrey up/down calculator\n",
    "\n",
    "### R script is developend in Andrei V. Chernov's Lab at the University of California San Diego.\n",
    "\n",
    "#### Version 0.1.beta https://github.com/chernov-lab/VonFreyTest\n",
    "\n",
    "#### GNU GENERAL PUBLIC LICENSE Applies\n",
    "\n",
    "#### Observation formats comply with Drs. T.L. Yaksch's (UCSD) and V.I. Shubayev's (UCSD) labs records\n",
    "\n",
    "##### Parametric data are from Chaplan et al, 1994: \n",
    "S R Chaplan  1 , F W Bach, J W Pogrel, J M Chung, T L Yaksh\n",
    "Quantitative assessment of tactile allodynia in the rat paw\n",
    "J Neurosci Methods, 1994 Jul;53(1):55-63. doi: 10.1016/0165-0270(94)90144-9.\n"
   ]
  },
  {
   "cell_type": "markdown",
   "id": "21c2b7ce",
   "metadata": {},
   "source": [
    "## Provide file name of the excel file that includes the following tabs:\n",
    "\n",
    "**data** (XO observations) and\n",
    "\n",
    "**meta** (comparison setting)\n",
    "\n",
    "### The **data** spreadsheet stores observation and last filament results\n",
    "### The **meta** spreadsheet establishes comparison pairs between groups\n",
    "\n",
    "#### Use the included test_data.xlsx file as a template\n",
    "\n",
    "**data** table should have the following comumns:\n",
    "\n",
    "'SEX', 'GROUP', 'PAW', 'TIMEPOINT', 'OBSERVATION', 'LAST', 'ANIMAL_ID'\n",
    "\n",
    "**meta** table should contain columns 'TREATMENT' and 'REFERENCE'\n",
    "\n",
    "**Currently only rat calculator is available!**"
   ]
  },
  {
   "cell_type": "code",
   "execution_count": null,
   "id": "67a70289",
   "metadata": {},
   "outputs": [],
   "source": [
    "data_file <- \"test_data.xlsx\"  # <<<- provide excel file name with VF data. File should be uploaded in the main folder"
   ]
  },
  {
   "cell_type": "code",
   "execution_count": null,
   "id": "f870a307",
   "metadata": {},
   "outputs": [],
   "source": [
    "if (file.exists(data_file)) {\n",
    "    sprintf(\"Observation data: %s\", data_file)\n",
    "} else { \n",
    "    stop(sprintf(\"File %s does not exist\", data_file))\n",
    "}"
   ]
  },
  {
   "cell_type": "markdown",
   "id": "6c818c55",
   "metadata": {},
   "source": [
    "## Set up test parameters:"
   ]
  },
  {
   "cell_type": "code",
   "execution_count": null,
   "id": "b3f0c4fe",
   "metadata": {},
   "outputs": [],
   "source": [
    "paw <- 'LEFT' #'RIGHT',  # define paw to use\n",
    "sex <- \"female\"  # define sex of animals if needed. Assign \"\" is sex is not defined\n",
    "species <- \"rat\" # define species of animal rat or mouse\n",
    "post_hoc_method <- \"bonferroni\" # Allowed values include \"holm\", \"hochberg\", \"hommel\", \"bonferroni\", \"BH\", \"BY\", \"fdr\", \"none\". If you don't want to adjust the p value (not recommended), use p.adjust.method = \"none\".\n",
    "label_id <- T # set TRUE if want to label animal IDs below threshold"
   ]
  },
  {
   "cell_type": "markdown",
   "id": "e9b9f23b",
   "metadata": {},
   "source": [
    "### Define the results file"
   ]
  },
  {
   "cell_type": "code",
   "execution_count": null,
   "id": "30ff5f63",
   "metadata": {},
   "outputs": [],
   "source": [
    "res_file <- paste('result', data_file, sep='.')  # results file"
   ]
  },
  {
   "cell_type": "markdown",
   "id": "89eea076",
   "metadata": {},
   "source": [
    "#### Loading R libraries"
   ]
  },
  {
   "cell_type": "code",
   "execution_count": null,
   "id": "7d3e497d",
   "metadata": {},
   "outputs": [],
   "source": [
    "library(readr)\n",
    "library(ggplot2)\n",
    "library(ggpubr)\n",
    "library(dplyr)\n",
    "library(tidyverse)\n",
    "library(rstatix)\n",
    "library(DescTools)\n",
    "library(readxl)\n",
    "library(writexl)\n",
    "library(lubridate)\n",
    "library(emmeans)"
   ]
  },
  {
   "cell_type": "markdown",
   "id": "ef135b17",
   "metadata": {},
   "source": [
    "### Define some custom functions"
   ]
  },
  {
   "cell_type": "code",
   "execution_count": null,
   "id": "580d9df0",
   "metadata": {},
   "outputs": [],
   "source": [
    "`%notin%` <- Negate(`%in%`)\n",
    "\n",
    "acPage = function(w1=12, h1=6, r1=1, c1=1, m1=2, m2=2, m3=2, m4=2){\n",
    "  options(repr.plot.width=w1, repr.plot.height= h1) \n",
    "  par(mfrow=c(r1,c1), mar=c(m1,m2,m3,m4))\n",
    "}"
   ]
  },
  {
   "cell_type": "markdown",
   "id": "d86ec4ff",
   "metadata": {},
   "source": [
    "### Folder definitions"
   ]
  },
  {
   "cell_type": "code",
   "execution_count": null,
   "id": "62ea7e98",
   "metadata": {},
   "outputs": [],
   "source": [
    "main_folder = \"\"\n",
    "data_folder <- \"files\"\n",
    "par_folder <- \"parameters\"\n",
    "\n",
    "sex <- toupper(sex)\n",
    "\n",
    "if (species == \"rat\"){\n",
    "    pain_threshold <- 5\n",
    "    max_res <- 15\n",
    "}"
   ]
  },
  {
   "cell_type": "markdown",
   "id": "5bc47c73",
   "metadata": {},
   "source": [
    "### Functions for Von Frey Test calculations"
   ]
  },
  {
   "cell_type": "code",
   "execution_count": null,
   "id": "2fc04355",
   "metadata": {},
   "outputs": [],
   "source": [
    "XO_file <- paste(species, \"final.previous.filaments.XO.csv\", sep='.')\n",
    "stat_file <- paste(species, \"observation-statistics.csv\", sep='.')\n",
    "\n",
    "observation_table <- read.csv(file.path(par_folder, stat_file), row.names=1, stringsAsFactors=FALSE)\n",
    "XO.table <- read.csv(file.path(par_folder, XO_file), row.names=1, stringsAsFactors=FALSE)\n",
    "\n",
    "VonFrey = function(obs='', last=0){\n",
    "    obs <- toupper(obs)\n",
    "    res <- 0\n",
    "    if (obs == '' | last == 0) { return (-1)} \n",
    "    else if (obs == 'OOOOO' & last == 5.18) { res <- max_res } \n",
    "    else if (obs == 'XXXX' & last == 3.61) { res <- 0.2 }\n",
    "    else if (length(which(rownames(XO.table) == last)) == 0 | length(which(rownames(observation_table) == obs))== 0) { return (-1)}\n",
    "    else {\n",
    "        a <- substr(obs, nchar(obs)-1, nchar(obs)-1)\n",
    "        prev <- XO.table[which(rownames(XO.table) == last), a]\n",
    "        dif <- abs(last - prev)\n",
    "        p50 <- last + dif * observation_table[which(rownames(observation_table) == obs),'STATISTIC']\n",
    "        res <- (10**p50)/10000\n",
    "        if (res > 15) { res <- max_res }\n",
    "        if (res < 0.2) { res <- 0.20 }\n",
    "        return(as.numeric(sprintf(\"%.2f\", res)))\n",
    "    }\n",
    "}\n",
    "\n",
    "TruncateObservation = function(obs = '', met = 2){\n",
    "    obs <- toupper(obs)\n",
    "    if (obs == '') { return (\"\") } \n",
    "    if (met == 2) { return (obs) }\n",
    "    if (met == 1) {  # Jenny's short method\n",
    "        len <- nchar(obs)  \n",
    "        Xpos <- StrPos(obs, 'X') \n",
    "        if (is.na(Xpos)) { return (obs) }   \n",
    "        obs1 <- substr(obs, Xpos, len) \n",
    "        return (obs1)\n",
    "    }\n",
    "}"
   ]
  },
  {
   "cell_type": "markdown",
   "id": "f1d36bff",
   "metadata": {},
   "source": [
    "## Read DATA and META files from main folder"
   ]
  },
  {
   "cell_type": "code",
   "execution_count": null,
   "id": "38259245",
   "metadata": {},
   "outputs": [],
   "source": [
    "dt <- readxl::read_excel(data_file, sheet = \"data\") \n",
    "meta <- readxl::read_excel(data_file, sheet = \"meta\")"
   ]
  },
  {
   "cell_type": "code",
   "execution_count": null,
   "id": "fdef786d",
   "metadata": {},
   "outputs": [],
   "source": [
    "dt <- dt %>% rename_with(toupper)\n",
    "meta <- meta %>% rename_with(toupper)\n",
    "\n",
    "# convert key parameters to uppercase\n",
    "dt <- dt %>% dplyr::mutate (\n",
    "                DATE = ymd(DATE),\n",
    "                SEX = toupper(SEX), \n",
    "                OBSERVATION = toupper(OBSERVATION),\n",
    "                PAW = toupper(PAW))\n",
    "dt <- dt %>% dplyr::arrange(SEX, TIMEPOINT, PAW)\n",
    "head(dt)\n",
    "head(meta)"
   ]
  },
  {
   "cell_type": "markdown",
   "id": "f137ea93",
   "metadata": {},
   "source": [
    "### filter by specific sex if **sex** is assigned"
   ]
  },
  {
   "cell_type": "code",
   "execution_count": null,
   "id": "82072d0f",
   "metadata": {},
   "outputs": [],
   "source": [
    "if (sex != \"\"){ dt <- dt %>% filter (SEX == sex) }"
   ]
  },
  {
   "cell_type": "markdown",
   "id": "a8f2ef69",
   "metadata": {},
   "source": [
    "### Calculate **Von Frey Test** values"
   ]
  },
  {
   "cell_type": "code",
   "execution_count": null,
   "id": "c52d246e",
   "metadata": {},
   "outputs": [],
   "source": [
    "dt <- dt %>% dplyr::mutate(RESULT = mapply(VonFrey, OBSERVATION, LAST))"
   ]
  },
  {
   "cell_type": "code",
   "execution_count": null,
   "id": "b623da82",
   "metadata": {},
   "outputs": [],
   "source": [
    "head(dt, 5)"
   ]
  },
  {
   "cell_type": "markdown",
   "id": "5989ea90",
   "metadata": {},
   "source": [
    "### Check for errors reported by Von Frey calculator\n",
    "#### Negative RESULTs (-1) indicate an error most likely related to incorrect XO data entry"
   ]
  },
  {
   "cell_type": "code",
   "execution_count": null,
   "id": "28551f03",
   "metadata": {},
   "outputs": [],
   "source": [
    "dt %>% filter(RESULT < 0)"
   ]
  },
  {
   "cell_type": "markdown",
   "id": "34a2dc5b",
   "metadata": {},
   "source": [
    "### Prepare dataset for ANOVA analysis and plotting"
   ]
  },
  {
   "cell_type": "code",
   "execution_count": null,
   "id": "3c21de2a",
   "metadata": {},
   "outputs": [],
   "source": [
    "dt <- dt %>% filter(RESULT > 0)\n",
    "lp_dt_names <- c('SEX', 'GROUP', 'PAW', 'TIMEPOINT', 'RESULT', 'ANIMAL_ID')\n",
    "lp_meta_names <- c('COMPARISON', 'TREATMENT', 'REFERENCE')"
   ]
  },
  {
   "cell_type": "code",
   "execution_count": null,
   "id": "24f75e12",
   "metadata": {},
   "outputs": [],
   "source": [
    "lp <- dt %>% \n",
    "    select(all_of(lp_dt_names)) %>% \n",
    "        mutate(DAY = TIMEPOINT, \n",
    "        TIMEPOINT = as.integer(TIMEPOINT),\n",
    "        DAY = factor(TIMEPOINT),\n",
    "        GROUP = factor(GROUP),\n",
    "    ID = row_number()) %>% \n",
    "    print"
   ]
  },
  {
   "cell_type": "markdown",
   "id": "d82ace8b",
   "metadata": {},
   "source": [
    "### Set up comparison pairs"
   ]
  },
  {
   "cell_type": "code",
   "execution_count": null,
   "id": "a9dc1b1d",
   "metadata": {},
   "outputs": [],
   "source": [
    "meta <- meta %>% \n",
    "    mutate(COMPARISON = mapply(sprintf, \"%s-%s\", TREATMENT, REFERENCE)) %>% \n",
    "    print"
   ]
  },
  {
   "cell_type": "code",
   "execution_count": null,
   "id": "4b8450b7",
   "metadata": {},
   "outputs": [],
   "source": [
    "mt <- meta %>% \n",
    "    select (TREATMENT, REFERENCE) %>% \n",
    "    t\n",
    "comparisons <- lapply(seq_len(ncol(mt)), function(i) mt[,i])"
   ]
  },
  {
   "cell_type": "markdown",
   "id": "47eb606c",
   "metadata": {},
   "source": [
    "### Filter by LEFT or RIGHT paw"
   ]
  },
  {
   "cell_type": "code",
   "execution_count": null,
   "id": "f525a130",
   "metadata": {},
   "outputs": [],
   "source": [
    "if (paw != \"\") { lp <- lp %>% filter(PAW == paw) }"
   ]
  },
  {
   "cell_type": "code",
   "execution_count": null,
   "id": "41465d27",
   "metadata": {},
   "outputs": [],
   "source": [
    "min_res <- lp %>% \n",
    "    select (RESULT) %>% \n",
    "    min\n",
    "max_res <- lp %>% \n",
    "    select (RESULT) %>% \n",
    "    max"
   ]
  },
  {
   "cell_type": "markdown",
   "id": "e0c3f941",
   "metadata": {},
   "source": [
    "## Summary statistics\n",
    "Compute some summary statistics (count, mean and sd) of the variable weight organized by groups:"
   ]
  },
  {
   "cell_type": "markdown",
   "id": "965d1b10",
   "metadata": {},
   "source": [
    "# Two-way ANOVA\n",
    "\n",
    "## Summary statistics\n",
    "Compute the mean and the SD (standard deviation) of the score by groups:"
   ]
  },
  {
   "cell_type": "code",
   "execution_count": null,
   "id": "c76bc099",
   "metadata": {},
   "outputs": [],
   "source": [
    "lp_stat <- lp %>%\n",
    "    group_by(GROUP, DAY) %>%\n",
    "    get_summary_stats(RESULT, type = \"mean_se\") %>% \n",
    "    mutate (TIMEPOINT = as.numeric(strtoi(DAY))) %>% \n",
    "    print"
   ]
  },
  {
   "cell_type": "markdown",
   "id": "b2d8f75c",
   "metadata": {},
   "source": [
    "## Visualization\n",
    "Create a box plot of the score by gender levels, colored by education levels:"
   ]
  },
  {
   "cell_type": "code",
   "execution_count": null,
   "id": "3388da0e",
   "metadata": {},
   "outputs": [],
   "source": [
    "acPage(w1=15, h1=6)\n",
    "bxp <- lp %>% ggboxplot(\n",
    "    x = \"GROUP\", y = \"RESULT\",\n",
    "    color = \"GROUP\", \n",
    "    palette = \"jco\",\n",
    "    ) +\n",
    "    theme_bw() +\n",
    "    rremove(\"x.text\") +\n",
    "    geom_hline(yintercept=5, linetype=\"dashed\", color = \"orange\", size=1) +\n",
    "    facet_grid( ~ TIMEPOINT, labeller = \"label_both\")\n",
    "\n",
    "plot(bxp)"
   ]
  },
  {
   "cell_type": "code",
   "execution_count": null,
   "id": "30694b0e",
   "metadata": {},
   "outputs": [],
   "source": [
    "lp_outs <- lp %>%\n",
    "    group_by(GROUP, DAY) %>%\n",
    "    identify_outliers(RESULT) %>% \n",
    "    filter(is.extreme == TRUE) %>% \n",
    "    print()\n",
    "\n",
    "lp <- lp %>% \n",
    "    anti_join(lp_outs, by = \"ID\") %>% \n",
    "    print()"
   ]
  },
  {
   "cell_type": "markdown",
   "id": "1ee68456",
   "metadata": {},
   "source": [
    "### Build the linear model"
   ]
  },
  {
   "cell_type": "code",
   "execution_count": null,
   "id": "5eace5d2",
   "metadata": {},
   "outputs": [],
   "source": [
    "model  <- lm(RESULT ~ GROUP * DAY, data = lp)"
   ]
  },
  {
   "cell_type": "markdown",
   "id": "0bda97d8",
   "metadata": {},
   "source": [
    "## Normality assumption\n",
    "The normality assumption can be checked by using one of the following two approaches:\n",
    "\n",
    "* Analyzing the ANOVA model residuals to check the normality for all groups together. This approach is easier and it’s very handy when you have many groups or if there are few data points per group.\n",
    "\n",
    "* Check normality for each group separately. This approach might be used when you have only a few groups and many data points per group.\n",
    "In this section, we’ll show you how to proceed for both option 1 and 2.\n",
    "\n",
    "### Create a QQ plot of residuals\n",
    "\n",
    "In the QQ plot, as all the points fall approximately along the reference line, we can assume normality. This conclusion is supported by the Shapiro-Wilk test. If the p-value is not significant, we can assume normality."
   ]
  },
  {
   "cell_type": "code",
   "execution_count": null,
   "id": "7fd6baba",
   "metadata": {},
   "outputs": [],
   "source": [
    "model %>% residuals %>% ggqqplot"
   ]
  },
  {
   "cell_type": "markdown",
   "id": "1292f785",
   "metadata": {},
   "source": [
    "### Compute Shapiro-Wilk test of normality"
   ]
  },
  {
   "cell_type": "code",
   "execution_count": null,
   "id": "93c8fe44",
   "metadata": {},
   "outputs": [],
   "source": [
    "model %>% residuals %>% shapiro_test"
   ]
  },
  {
   "cell_type": "markdown",
   "id": "17827298",
   "metadata": {},
   "source": [
    "Check normality assumption by analyzing the model residuals. QQ plot and Shapiro-Wilk test of normality are used. QQ plot draws the correlation between a given data and the normal distribution."
   ]
  },
  {
   "cell_type": "code",
   "execution_count": null,
   "id": "a3a5ef40",
   "metadata": {},
   "outputs": [],
   "source": [
    "Shapiro <- lp %>% \n",
    "    group_by(DAY, GROUP) %>% \n",
    "    shapiro_test(RESULT)\n",
    "\n",
    "Shapiro %>% filter( p < 0.05 ) %>% print()\n",
    "\n",
    "Shapiro %>% filter( p > 0.05 ) %>% print()"
   ]
  },
  {
   "cell_type": "markdown",
   "id": "89d21996",
   "metadata": {},
   "source": [
    "Check if the scores are normally distributed (p > 0.05) for each group, as assessed by Shapiro-Wilk’s test of normality."
   ]
  },
  {
   "cell_type": "code",
   "execution_count": null,
   "id": "bbbf41bd",
   "metadata": {},
   "outputs": [],
   "source": [
    "ggqqplot(lp, \"RESULT\", ggtheme = theme_bw()) +\n",
    "    facet_grid( GROUP ~ TIMEPOINT, labeller = \"label_both\")"
   ]
  },
  {
   "cell_type": "markdown",
   "id": "8bc71120",
   "metadata": {},
   "source": [
    "### Calculate ANOVA statistics table with post hoc corrections "
   ]
  },
  {
   "cell_type": "code",
   "execution_count": null,
   "id": "1128ce0e",
   "metadata": {},
   "outputs": [],
   "source": [
    "pwc <- lp %>% \n",
    "    group_by(DAY) %>%\n",
    "    emmeans_test(RESULT ~ GROUP, model = model, \n",
    "            comparisons = comparisons,\n",
    "            p.adjust.method = post_hoc_method) \n",
    "\n",
    "pwc_stat <- pwc"
   ]
  },
  {
   "cell_type": "markdown",
   "id": "f2a736fc",
   "metadata": {},
   "source": [
    "### List most significant differences between groups"
   ]
  },
  {
   "cell_type": "code",
   "execution_count": null,
   "id": "bdcc9108",
   "metadata": {},
   "outputs": [],
   "source": [
    "pwc %>% \n",
    "    filter(p.adj < 0.1) %>% \n",
    "    arrange (p.adj) %>% \n",
    "    print"
   ]
  },
  {
   "cell_type": "markdown",
   "id": "9502b794",
   "metadata": {},
   "source": [
    "### Add formatted P-value for graphics"
   ]
  },
  {
   "cell_type": "code",
   "execution_count": null,
   "id": "9e50a472",
   "metadata": {},
   "outputs": [],
   "source": [
    "pwc$p.format <- p_format(pwc$p, accuracy = 0.0001, leading.zero = FALSE)\n",
    "head(pwc)"
   ]
  },
  {
   "cell_type": "code",
   "execution_count": null,
   "id": "e437bcdc",
   "metadata": {},
   "outputs": [],
   "source": [
    "days <- lp %>% select(TIMEPOINT) %>% arrange %>% unique %>% as.list\n",
    "days"
   ]
  },
  {
   "cell_type": "markdown",
   "id": "15290c07",
   "metadata": {},
   "source": [
    "## Plot all data on one graph"
   ]
  },
  {
   "cell_type": "code",
   "execution_count": null,
   "id": "8be92dab",
   "metadata": {},
   "outputs": [],
   "source": [
    "acPage(w1=15, h1=10)\n",
    "\n",
    "x_max <- max(lp$TIMEPOINT) + 1\n",
    "\n",
    "p <- ggline(lp, \n",
    "            x = \"TIMEPOINT\",\n",
    "            y = \"RESULT\", \n",
    "            size = 1.5,            \n",
    "            color = \"GROUP\",\n",
    "            shape = \"GROUP\",\n",
    "            point.size = 5,\n",
    "            linetype = \"GROUP\",\n",
    "            ylim = c(0, max_res),\n",
    "            xlim = c(0, x_max + 1),\n",
    "            add = c(\"mean_se\", \"jitter\" ),\n",
    "            add.params = list(width = 0.1, shape = 15),\n",
    "            palette = \"GROUP\"\n",
    "            )  +\n",
    "    theme_bw() +\n",
    "    geom_point(size = 3, aes(color = GROUP, shape = GROUP)) +\n",
    "    xlab(\"Time after IS injection, days\") +\n",
    "    ylab(\"Tactile threshold, g\") +\n",
    "    ggtitle( sprintf( \"von Frey behavior tests in %s paws\", tolower (paw))) +\n",
    "    theme(text = element_text(size=20, color = \"black\", angle = 0, hjust = .5, vjust = 0, face = \"italic\"),\n",
    "    axis.text.x = element_text(hjust=1)) +\n",
    "    geom_hline(yintercept=5, linetype=\"dashed\", color = \"orange\", size=1.2) +\n",
    "    scale_y_continuous(breaks= 0 : round(max_res) * max_res/3, expand = expansion(mult = c(0, 0.1))  ) +\n",
    "    scale_x_continuous(breaks= 0 : x_max * 1) \n",
    "plot(p)"
   ]
  },
  {
   "cell_type": "markdown",
   "id": "1029aae2",
   "metadata": {},
   "source": [
    "### Plot this graph into a PDF file"
   ]
  },
  {
   "cell_type": "code",
   "execution_count": null,
   "id": "0436645c",
   "metadata": {},
   "outputs": [],
   "source": [
    "pdf(sprintf(\"vonFrey plot.pdf\"), width = 15, height = 10)\n",
    "plot(p)\n",
    "dev.off()"
   ]
  },
  {
   "cell_type": "markdown",
   "id": "375d132e",
   "metadata": {},
   "source": [
    "### Ensure X axis coordinates correctly mapped"
   ]
  },
  {
   "cell_type": "code",
   "execution_count": null,
   "id": "be5d8a6e",
   "metadata": {},
   "outputs": [],
   "source": [
    "pwc <- pwc %>% \n",
    "    mutate(x = as.numeric(DAY), \n",
    "           xmin = as.numeric(strtoi(DAY)), \n",
    "           xmax = as.numeric(strtoi(DAY)) + 0.32) %>% \n",
    "    arrange(x)"
   ]
  },
  {
   "cell_type": "markdown",
   "id": "5cad0974",
   "metadata": {},
   "source": [
    "## Plot graphs for individual comparisons and save in PDF files"
   ]
  },
  {
   "cell_type": "code",
   "execution_count": null,
   "id": "c0ac7873",
   "metadata": {},
   "outputs": [],
   "source": [
    "acPage(w1=12, h1=7)\n",
    "\n",
    "print(\"Significance scores: * < 0.05; ** < 0.005; *** < 0.0005; **** < 0.00005\")\n",
    "\n",
    "for (i in 1:nrow(meta)){\n",
    "\n",
    "lp_plot <- lp %>% filter ( GROUP == meta$TREATMENT[i] | GROUP == meta$REFERENCE[i] ) \n",
    "pwc.f <- pwc %>% filter( group1 == meta$TREATMENT[i] & group2 == meta$REFERENCE[i])\n",
    "    \n",
    "pp <- ggline(\n",
    "            lp_plot, \n",
    "            y = \"RESULT\", \n",
    "            x = \"TIMEPOINT\", \n",
    "            color = \"GROUP\", \n",
    "            ylim = c(0, max_res + 1),\n",
    "            linetype = \"GROUP\",\n",
    "            size = 1.5, binwidth=0.8, \n",
    "            add = c(\"mean_se\"),\n",
    "            palette = c(\"red3\", \"blue1\"),\n",
    "            ) +  scale_x_continuous(breaks = 0:21*1) +\n",
    "    stat_pvalue_manual( \n",
    "            pwc.f, \n",
    "            label = \"p.adj.signif\",\n",
    "            position = position_dodge(0.6), \n",
    "            remove.bracket = T,\n",
    "            size = 11,\n",
    "            y.position = 15.5,\n",
    "            hide.ns = T,\n",
    "            color = \"black\"\n",
    "            ) +\n",
    "    geom_point(aes(shape = GROUP, color = GROUP, size = 10), alpha = 5/10, show.legend = F) +\n",
    "    xlab(label = \"Time, days\") +\n",
    "    ylab(label = \"Tactile threshold, g\") +\n",
    "    ggtitle( sprintf( \"%s vs %s by von Frey in %s %s paws. Mean\\u00B1SE, ANOVA, %s post-hoc\", \n",
    "                     meta$TREATMENT[i], meta$REFERENCE[i], species, tolower (paw), str_to_title(post_hoc_method))) +\n",
    "    theme_bw() +\n",
    "    geom_hline(yintercept=pain_threshold, linetype=\"dashed\", color = \"orange\", size=1.2) +\n",
    "    theme(text = element_text(size=16, color = \"black\", angle = 0, hjust = .5, vjust = 0, face = \"italic\")) +\n",
    "    geom_text(aes(label=ifelse(label_id & RESULT <= pain_threshold,as.character(ANIMAL_ID),'')),hjust = 0, vjust = 0, size = 4, check_overlap = T)\n",
    "\n",
    "    plot(pp)\n",
    "\n",
    "    pdf(sprintf(\"vonFrey plot %s vs %s in %s %s paw.pdf\", meta$TREATMENT[i], meta$REFERENCE[i], species, tolower (paw)), width = 12, height = 7)\n",
    "        plot(pp)\n",
    "    dev.off()\n",
    "}"
   ]
  },
  {
   "cell_type": "code",
   "execution_count": null,
   "id": "64be9bf1",
   "metadata": {},
   "outputs": [],
   "source": [
    "pwc <- pwc %>% \n",
    "    mutate (DAY = strtoi(DAY)) %>% \n",
    "    arrange (group1, group2, DAY)\n",
    "\n",
    "for (i in 1:nrow(meta)){\n",
    "    sprintf(\"Significance scores for %s vs %s, post-hoc %s\", meta$TREATMENT[i], meta$REFERENCE[i], post_hoc_method) %>% print\n",
    "    pwc %>% \n",
    "    filter(group1 == meta$TREATMENT[i] & group2 == meta$REFERENCE[i]) %>% \n",
    "    arrange (DAY) %>% \n",
    "    select (DAY, group1, group2, p, p.adj, p.adj.signif) %>%\n",
    "    print\n",
    "}"
   ]
  },
  {
   "cell_type": "markdown",
   "id": "036dc22d",
   "metadata": {},
   "source": [
    "### Kruskal-Wallis test \n",
    "\n",
    "Kruskal-Wallis test is a non-parametric alternative to the one-way ANOVA test. It extends the two-samples Wilcoxon test in the situation where there are more than two groups to compare. "
   ]
  },
  {
   "cell_type": "code",
   "execution_count": null,
   "id": "000be105",
   "metadata": {},
   "outputs": [],
   "source": [
    "res.kruskal <- lp %>% \n",
    "    group_by(TIMEPOINT) %>% \n",
    "    kruskal_test(RESULT ~ GROUP)\n",
    "res.kruskal"
   ]
  },
  {
   "cell_type": "markdown",
   "id": "fc336f00",
   "metadata": {},
   "source": [
    "## Effect size\n",
    "The eta squared, based on the H-statistic, can be used as the measure of the Kruskal-Wallis test effect size. It is calculated as follow : \n",
    "\n",
    "    eta2[H] = (H - k + 1)/(n - k); \n",
    "\n",
    "where H is the value obtained in the Kruskal-Wallis test; k is the number of groups; n is the total number of observations (M. T. Tomczak and Tomczak 2014).\n",
    "\n",
    "The eta-squared estimate assumes values from 0 to 1 and multiplied by 100 indicates the percentage of variance in the dependent variable explained by the independent variable.\n",
    "\n",
    "The interpretation values commonly in published literature are: 0.01- < 0.06 (small effect), 0.06 - < 0.14 (moderate effect) and >= 0.14 (large effect)."
   ]
  },
  {
   "cell_type": "code",
   "execution_count": null,
   "id": "697ed6d2",
   "metadata": {},
   "outputs": [],
   "source": [
    "lp %>% \n",
    "    group_by(TIMEPOINT) %>% \n",
    "    kruskal_effsize(RESULT ~ GROUP)"
   ]
  },
  {
   "cell_type": "markdown",
   "id": "42dce366",
   "metadata": {},
   "source": [
    "## Multiple pairwise-comparisons\n",
    "From the output of the Kruskal-Wallis test, we know that there is a significant difference between groups, but we don’t know which pairs of groups are different.\n",
    "\n",
    "A significant Kruskal-Wallis test is generally followed up by Dunn’s test to identify which groups are different."
   ]
  },
  {
   "cell_type": "markdown",
   "id": "7d43fd7c",
   "metadata": {},
   "source": [
    "### Pairwise comparisons using Dunn’s test:"
   ]
  },
  {
   "cell_type": "code",
   "execution_count": null,
   "id": "9a42081e",
   "metadata": {},
   "outputs": [],
   "source": [
    "# Pairwise comparisons\n",
    "pwc_dunn <- lp %>% \n",
    "    group_by(TIMEPOINT) %>% \n",
    "    dunn_test(RESULT ~ GROUP, p.adjust.method = post_hoc_method) \n",
    "pwc_dunn %>% filter(p.adj.signif != 'ns') %>% head(3)"
   ]
  },
  {
   "cell_type": "markdown",
   "id": "442bbabf",
   "metadata": {},
   "source": [
    "It’s also possible to use the Wilcoxon’s test to calculate pairwise comparisons between group levels with corrections for multiple testing."
   ]
  },
  {
   "cell_type": "code",
   "execution_count": null,
   "id": "735f41c0",
   "metadata": {},
   "outputs": [],
   "source": [
    "pwc_wilcox <- lp %>% \n",
    "    group_by(TIMEPOINT) %>% \n",
    "    wilcox_test(RESULT ~ GROUP, p.adjust.method = post_hoc_method)\n",
    "\n",
    "(pwc_wilcox %>% filter(p.adj.signif != 'ns'))"
   ]
  },
  {
   "cell_type": "markdown",
   "id": "4486fb8a",
   "metadata": {},
   "source": [
    "## Report\n",
    "There was a statistically significant differences between treatment groups as assessed using the Kruskal-Wallis test (p = 0.018). Pairwise Wilcoxon test between groups showed that only the difference between trt1 and trt2 group was significant (Wilcoxon’s test, p = 0.027)"
   ]
  },
  {
   "cell_type": "code",
   "execution_count": null,
   "id": "53886423",
   "metadata": {},
   "outputs": [],
   "source": [
    "# Visualization: box plots with p-values\n",
    "\n",
    "acPage(w1=15, h1=5)\n",
    "#res.kruskal <- lp %>% group_by(TIMEPOINT) %>% kruskal_test(RESULT ~ GROUP)\n",
    "#pwc_dunn <- lp %>%  group_by(TIMEPOINT) %>% dunn_test(RESULT ~ GROUP, p.adjust.method = \"bonferroni\") \n",
    "pwc_dunn <- pwc_dunn %>% add_xy_position(x = \"GROUP\")\n",
    "\n",
    "p1 <- lp %>% \n",
    "        ggboxplot(x = \"GROUP\", y = \"RESULT\",  add = c(\"mean_se\"), color = \"GROUP\") +\n",
    "        stat_pvalue_manual(pwc_dunn, hide.ns = TRUE) +\n",
    "        labs(\n",
    "        subtitle = get_test_label(res.kruskal, detailed = T, correction = post_hoc_method),\n",
    "        caption = get_pwc_label(pwc_dunn),\n",
    "        type = \"expresion\"\n",
    "        ) +\n",
    "geom_point(aes(shape = GROUP, color = GROUP, size = 10), alpha = 5/10, show.legend = F) +\n",
    "xlab(label = \"Time, days\") +\n",
    "ylab(label = \"Tactile threshold, g\") +\n",
    "theme_bw() +\n",
    "geom_hline(yintercept=pain_threshold, linetype=\"dashed\", color = \"orange\", size=1.2) +\n",
    "theme(text = element_text(size=16, color = \"black\", angle = 0, hjust = .5, vjust = 0, face = \"italic\")) +\n",
    "facet_grid( ~ TIMEPOINT, labeller = \"label_both\") +\n",
    "geom_text(aes(label=ifelse(label_id & RESULT<=pain_threshold,as.character(ANIMAL_ID),'')), hjust = 1, vjust = 1.5, size = 4, check_overlap = T)\n",
    "\n",
    "plot(p1)"
   ]
  },
  {
   "cell_type": "markdown",
   "id": "d6c3fc90",
   "metadata": {},
   "source": [
    "### Save results"
   ]
  },
  {
   "cell_type": "code",
   "execution_count": null,
   "id": "1ee0e9d7",
   "metadata": {},
   "outputs": [],
   "source": [
    "sprintf(\"Save results in %s file\", res_file)"
   ]
  },
  {
   "cell_type": "code",
   "execution_count": null,
   "id": "b813a4c8",
   "metadata": {},
   "outputs": [],
   "source": [
    "write_xlsx(list(data = dt, meta = meta, ANOVA = pwc, Kruskal = res.kruskal, Dunn = pwc_dunn, Wilcox = pwc_wilcox), res_file)"
   ]
  },
  {
   "cell_type": "code",
   "execution_count": null,
   "id": "9f7cacf7",
   "metadata": {},
   "outputs": [],
   "source": [
    "sessionInfo()"
   ]
  },
  {
   "cell_type": "code",
   "execution_count": null,
   "id": "4ff472fd",
   "metadata": {},
   "outputs": [],
   "source": []
  },
  {
   "cell_type": "code",
   "execution_count": null,
   "id": "9b7a95cf",
   "metadata": {},
   "outputs": [],
   "source": []
  }
 ],
 "metadata": {
  "kernelspec": {
   "display_name": "R",
   "language": "R",
   "name": "ir"
  },
  "language_info": {
   "codemirror_mode": "r",
   "file_extension": ".r",
   "mimetype": "text/x-r-source",
   "name": "R",
   "pygments_lexer": "r",
   "version": "4.1.2"
  }
 },
 "nbformat": 4,
 "nbformat_minor": 5
}
