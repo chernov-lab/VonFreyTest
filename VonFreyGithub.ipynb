{
 "cells": [
  {
   "cell_type": "markdown",
   "id": "48882de9",
   "metadata": {},
   "source": [
    "# Von Frey XO sequence calculator and plotter\n",
    "\n",
    "### This R script is developend in Andrei V. Chernov's Lab at the University of California San Diego.\n",
    "\n",
    "#### Version 0.1. https://github.com/chernov-lab/VonFreyTest\n",
    "\n",
    "#### The script is based on experimental work in Drs. T.L. Yaksch (UCSD) and V.I. Shubayev (UCSD).\n",
    "\n",
    "##### Parametric data were derived from: \n",
    "S R Chaplan  1 , F W Bach, J W Pogrel, J M Chung, T L Yaksh\n",
    "Quantitative assessment of tactile allodynia in the rat paw\n",
    "J Neurosci Methods, 1994 Jul;53(1):55-63. doi: 10.1016/0165-0270(94)90144-9.\n"
   ]
  },
  {
   "cell_type": "markdown",
   "id": "372e23b0",
   "metadata": {},
   "source": [
    "## Provide file name of the excel file that includes **data** and **meta** tabs\n",
    "### The **data** tab stores observation and last filament results\n",
    "### The **meta** tab establishes comparison pairs"
   ]
  },
  {
   "cell_type": "code",
   "execution_count": null,
   "id": "23b72f00",
   "metadata": {},
   "outputs": [],
   "source": [
    "data_file <- \"test_data.xlsx\"  # <<<- provide excel file name with VF data. File should be uploaded in the main folder"
   ]
  },
  {
   "cell_type": "markdown",
   "id": "c6b09f7f",
   "metadata": {},
   "source": [
    "## Set up test parameters:"
   ]
  },
  {
   "cell_type": "code",
   "execution_count": null,
   "id": "1ffd3cad",
   "metadata": {},
   "outputs": [],
   "source": [
    "paw <- 'LEFT' #'RIGHT',  # define paw to use\n",
    "sex <- \"female\"  # define sex of animals if needed. Assign \"\" is sex is not defined\n",
    "species <- \"rat\" # define species of animal rat or mouse\n",
    "res_file <- paste('result', data_file, sep='.')  # result file\n",
    "post_hoc_method <- \"bonferroni\" # Allowed values include \"holm\", \"hochberg\", \"hommel\", \"bonferroni\", \"BH\", \"BY\", \"fdr\", \"none\". If you don't want to adjust the p value (not recommended), use p.adjust.method = \"none\".\n",
    "label_id <- F # set TRUE if want to label animal IDs below threshold"
   ]
  },
  {
   "cell_type": "code",
   "execution_count": null,
   "id": "41a4b52f",
   "metadata": {},
   "outputs": [],
   "source": [
    "library(readr)\n",
    "library(ggplot2)\n",
    "library(ggpubr)\n",
    "library(ggiraphExtra)\n",
    "library(dplyr)\n",
    "library(tidyverse)\n",
    "library(rstatix)\n",
    "library(DescTools)\n",
    "library(readxl)\n",
    "library(writexl)\n",
    "library(lubridate)\n",
    "library(emmeans)\n",
    "library(ggpubr)"
   ]
  },
  {
   "cell_type": "markdown",
   "id": "2fb9f2fc",
   "metadata": {},
   "source": [
    "### Define some custom functions"
   ]
  },
  {
   "cell_type": "code",
   "execution_count": null,
   "id": "91251d56",
   "metadata": {},
   "outputs": [],
   "source": [
    "`%notin%` <- Negate(`%in%`)\n",
    "\n",
    "acPage = function(w1=12, h1=6, r1=1, c1=1, m1=2, m2=2, m3=2, m4=2){\n",
    "  options(repr.plot.width=w1, repr.plot.height= h1) \n",
    "  par(mfrow=c(r1,c1), mar=c(m1,m2,m3,m4))\n",
    "}"
   ]
  },
  {
   "cell_type": "markdown",
   "id": "27d950bb",
   "metadata": {},
   "source": [
    "### Set on-screen plotting parameters"
   ]
  },
  {
   "cell_type": "code",
   "execution_count": null,
   "id": "2bf73488",
   "metadata": {},
   "outputs": [],
   "source": [
    "acPage()"
   ]
  },
  {
   "cell_type": "code",
   "execution_count": null,
   "id": "0226c3be",
   "metadata": {},
   "outputs": [],
   "source": [
    "# Folder definitions\n",
    "main_folder = \"\"\n",
    "data_folder <- \"files\"\n",
    "par_folder <- \"parameters\"\n",
    "\n",
    "sex <- toupper(sex)\n",
    "\n",
    "if (species == \"rat\"){\n",
    "    pain_threshold <- 5\n",
    "    max_res <- 15\n",
    "}"
   ]
  },
  {
   "cell_type": "markdown",
   "id": "a2173d63",
   "metadata": {},
   "source": [
    "### Read species specific parameters \n",
    "### Perform Von Frey Test calculations"
   ]
  },
  {
   "cell_type": "code",
   "execution_count": null,
   "id": "dd2b720f",
   "metadata": {},
   "outputs": [],
   "source": [
    "XO_file <- paste(species, \"final.previous.filaments.XO.csv\", sep='.')\n",
    "stat_file <- paste(species, \"observation-statistics.csv\", sep='.')\n",
    "\n",
    "observation_table <- read.csv(file.path(par_folder, stat_file), row.names=1, stringsAsFactors=FALSE)\n",
    "XO.table <- read.csv(file.path(par_folder, XO_file), row.names=1, stringsAsFactors=FALSE) #, col_types = \"nnn\")\n",
    "\n",
    "VonFrey = function(obs='', last=0){\n",
    "    obs <- toupper(obs)\n",
    "    res <- 0\n",
    "    if (obs == '' | last == 0) { return (-1)} \n",
    "    else if (obs == 'OOOOO' & last == 5.18) { res <- max_res } \n",
    "    else if (obs == 'XXXX' & last == 3.61) { res <- 0.2 }\n",
    "    else if (length(which(rownames(XO.table) == last)) == 0 | length(which(rownames(observation_table) == obs))== 0) { return (-1)}\n",
    "    else {\n",
    "    a <- substr(obs, nchar(obs)-1, nchar(obs)-1)\n",
    "    prev <- XO.table[which(rownames(XO.table) == last), a]\n",
    "    dif <- abs(last - prev)\n",
    "    p50 <- last + dif * observation_table[which(rownames(observation_table) == obs),'STATISTIC']\n",
    "    res <- (10**p50)/10000\n",
    "    if (res > 15) { res <- max_res }\n",
    "    if (res < 0.2) { res <- 0.20 }\n",
    "    return(as.numeric(sprintf(\"%.2f\", res)))\n",
    "    }\n",
    "}\n",
    "TruncateObservation = function(obs='', met=2){\n",
    "    obs <- toupper(obs)\n",
    "    if (obs == '') { return (\"\") } \n",
    "    if (met == 2) { return (obs) }\n",
    "    if (met == 1) {  # Jenny's short method\n",
    "    len <- nchar(obs)  \n",
    "    Xpos <- StrPos(obs, 'X') \n",
    "    if (is.na(Xpos)) { return (obs) }   \n",
    "    obs1 <- substr(obs, Xpos, len)\n",
    " \n",
    "    return (obs1)\n",
    "    }\n",
    "}"
   ]
  },
  {
   "cell_type": "markdown",
   "id": "478b1fc3",
   "metadata": {},
   "source": [
    "## Read DATA and META files from main folder"
   ]
  },
  {
   "cell_type": "code",
   "execution_count": null,
   "id": "13d275b5",
   "metadata": {},
   "outputs": [],
   "source": [
    "x <- readxl::read_excel(data_file, sheet = \"data\") \n",
    "meta <- readxl::read_excel(data_file, sheet = \"meta\")"
   ]
  },
  {
   "cell_type": "code",
   "execution_count": null,
   "id": "30033779",
   "metadata": {},
   "outputs": [],
   "source": [
    "x <- x %>% rename_with(toupper)\n",
    "meta <- meta %>% rename_with(toupper)\n",
    "\n",
    "# convert key parameters to uppercase\n",
    "x <- x %>% dplyr::mutate (\n",
    "                DATE = ymd(DATE),\n",
    "                SEX = toupper(SEX), \n",
    "                OBSERVATION = toupper(OBSERVATION),\n",
    "                PAW = toupper(PAW))\n",
    "x <- x %>% dplyr::arrange(SEX, TIMEPOINT, PAW)\n",
    "head(x)\n",
    "head(meta)"
   ]
  },
  {
   "cell_type": "markdown",
   "id": "8da03587",
   "metadata": {},
   "source": [
    "### filter by specific sex if **sex** is assigned"
   ]
  },
  {
   "cell_type": "code",
   "execution_count": null,
   "id": "721d1fa9",
   "metadata": {},
   "outputs": [],
   "source": [
    "if (sex != \"\"){ x <- x %>% filter (SEX == sex) }"
   ]
  },
  {
   "cell_type": "markdown",
   "id": "36ba05c7",
   "metadata": {},
   "source": [
    "### Calculate **Von Frey Test** values"
   ]
  },
  {
   "cell_type": "code",
   "execution_count": null,
   "id": "c6fb90d1",
   "metadata": {},
   "outputs": [],
   "source": [
    "x <- x %>% dplyr::mutate(RESULT = mapply(VonFrey, OBSERVATION, LAST))"
   ]
  },
  {
   "cell_type": "code",
   "execution_count": null,
   "id": "fa511af4",
   "metadata": {},
   "outputs": [],
   "source": [
    "head(x, 5)"
   ]
  },
  {
   "cell_type": "markdown",
   "id": "99f8d979",
   "metadata": {},
   "source": [
    "### Check for errors reported by Von Frey calculator\n",
    "#### Negative RESULTs (-1) indicate an error most likely related to incorrect XO data entry"
   ]
  },
  {
   "cell_type": "code",
   "execution_count": null,
   "id": "dddf62f3",
   "metadata": {},
   "outputs": [],
   "source": [
    "x %>% filter(RESULT < 0)"
   ]
  },
  {
   "cell_type": "markdown",
   "id": "35eeca9c",
   "metadata": {},
   "source": [
    "### Prepare dataset for ANOVA analysis and plotting"
   ]
  },
  {
   "cell_type": "code",
   "execution_count": null,
   "id": "d3c20c7b",
   "metadata": {},
   "outputs": [],
   "source": [
    "x <- x %>% filter(RESULT > 0)\n",
    "lp_x_names <- c('SEX', 'GROUP', 'PAW', 'TIMEPOINT', 'RESULT', 'ANIMAL_ID')\n",
    "lp_meta_names <- c('COMPARISON', 'TREATMENT', 'REFERENCE')"
   ]
  },
  {
   "cell_type": "code",
   "execution_count": null,
   "id": "e3dfe72f",
   "metadata": {},
   "outputs": [],
   "source": [
    "lp <- x %>% \n",
    "    select(all_of(lp_x_names)) %>% \n",
    "        mutate(DAY = TIMEPOINT, \n",
    "               TIMEPOINT = as.integer(TIMEPOINT),\n",
    "               DAY = factor(TIMEPOINT),\n",
    "               GROUP = factor(GROUP),\n",
    "               ID = row_number()) %>% \n",
    "        print"
   ]
  },
  {
   "cell_type": "code",
   "execution_count": null,
   "id": "56d85afa",
   "metadata": {},
   "outputs": [],
   "source": [
    "print(meta)"
   ]
  },
  {
   "cell_type": "markdown",
   "id": "d304a9bb",
   "metadata": {},
   "source": [
    "### Set up comparison pairs"
   ]
  },
  {
   "cell_type": "code",
   "execution_count": null,
   "id": "abe6016e",
   "metadata": {},
   "outputs": [],
   "source": [
    "meta <- meta %>% mutate(COMPARISON = mapply(sprintf, \"%s-%s\", TREATMENT, REFERENCE)) %>% print"
   ]
  },
  {
   "cell_type": "code",
   "execution_count": null,
   "id": "1844742d",
   "metadata": {},
   "outputs": [],
   "source": [
    "comparisons <- meta %>% select (TREATMENT, REFERENCE) %>% t %>% as_tibble %>% as.list %>% print"
   ]
  },
  {
   "cell_type": "markdown",
   "id": "fc59a6f2",
   "metadata": {},
   "source": [
    "### Filter by LEFT or RIGHT paw"
   ]
  },
  {
   "cell_type": "code",
   "execution_count": null,
   "id": "cc128b59",
   "metadata": {},
   "outputs": [],
   "source": [
    "if (paw != \"\") { lp <- lp %>% filter(PAW == paw) }"
   ]
  },
  {
   "cell_type": "code",
   "execution_count": null,
   "id": "e2ca4323",
   "metadata": {},
   "outputs": [],
   "source": [
    "min_res <- lp %>% select (RESULT) %>% min %>% print\n",
    "max_res <- lp %>% select (RESULT) %>% max %>% print"
   ]
  },
  {
   "cell_type": "markdown",
   "id": "0caf1021",
   "metadata": {},
   "source": [
    "## Summary statistics\n",
    "Compute some summary statistics (count, mean and sd) of the variable weight organized by groups:"
   ]
  },
  {
   "cell_type": "markdown",
   "id": "83f635c6",
   "metadata": {},
   "source": [
    "# Two-way ANOVA\n",
    "\n",
    "## Summary statistics\n",
    "Compute the mean and the SD (standard deviation) of the score by groups:"
   ]
  },
  {
   "cell_type": "code",
   "execution_count": null,
   "id": "c5543d83",
   "metadata": {},
   "outputs": [],
   "source": [
    "lp_stat <- lp %>%\n",
    "  group_by(GROUP, DAY) %>%\n",
    "        get_summary_stats(RESULT, type = \"mean_se\") %>% \n",
    "        mutate (TIMEPOINT = as.numeric(strtoi(DAY))) %>% \n",
    "        print"
   ]
  },
  {
   "cell_type": "markdown",
   "id": "8f6eb4d1",
   "metadata": {},
   "source": [
    "## Visualization\n",
    "Create a box plot of the score by gender levels, colored by education levels:"
   ]
  },
  {
   "cell_type": "code",
   "execution_count": null,
   "id": "d31ee6e0",
   "metadata": {},
   "outputs": [],
   "source": []
  },
  {
   "cell_type": "code",
   "execution_count": null,
   "id": "119c741c",
   "metadata": {},
   "outputs": [],
   "source": [
    "acPage(w1=15, h1=6)\n",
    "bxp <- lp %>% ggboxplot(\n",
    "    x = \"GROUP\", y = \"RESULT\",\n",
    "    color = \"GROUP\", \n",
    "    palette = \"jco\",\n",
    "    ) +\n",
    "    rremove(\"x.text\") +\n",
    "    geom_hline(yintercept=5, linetype=\"dashed\", color = \"orange\", size=1) +\n",
    "    facet_grid( ~ TIMEPOINT, labeller = \"label_both\")\n",
    "\n",
    "plot(bxp)"
   ]
  },
  {
   "cell_type": "code",
   "execution_count": null,
   "id": "699d2f4a",
   "metadata": {},
   "outputs": [],
   "source": [
    "lp_outs <- lp %>%\n",
    "  group_by(GROUP, DAY) %>%\n",
    "    identify_outliers(RESULT) %>% \n",
    "        filter(is.extreme == TRUE) %>% print()\n",
    "\n",
    "lp <- lp %>% anti_join(lp_outs, by = \"ID\") %>% print()"
   ]
  },
  {
   "cell_type": "markdown",
   "id": "f13af409",
   "metadata": {},
   "source": [
    "### Build the linear model"
   ]
  },
  {
   "cell_type": "code",
   "execution_count": null,
   "id": "2b8ce19e",
   "metadata": {},
   "outputs": [],
   "source": [
    "model  <- lm(RESULT ~ GROUP * DAY, data = lp)"
   ]
  },
  {
   "cell_type": "markdown",
   "id": "d163b063",
   "metadata": {},
   "source": [
    "### Create a QQ plot of residuals"
   ]
  },
  {
   "cell_type": "code",
   "execution_count": null,
   "id": "229ec731",
   "metadata": {},
   "outputs": [],
   "source": [
    "model %>% residuals %>% ggqqplot"
   ]
  },
  {
   "cell_type": "markdown",
   "id": "acb3646b",
   "metadata": {},
   "source": [
    "### Compute Shapiro-Wilk test of normality"
   ]
  },
  {
   "cell_type": "code",
   "execution_count": null,
   "id": "94b1c3e0",
   "metadata": {},
   "outputs": [],
   "source": [
    "model %>% residuals %>% shapiro_test"
   ]
  },
  {
   "cell_type": "code",
   "execution_count": null,
   "id": "9b6cc941",
   "metadata": {},
   "outputs": [],
   "source": [
    "lp %>% group_by(GROUP) %>% shapiro_test(RESULT) %>% print"
   ]
  },
  {
   "cell_type": "code",
   "execution_count": null,
   "id": "d0efa556",
   "metadata": {},
   "outputs": [],
   "source": [
    "ggqqplot(lp, \"RESULT\", ggtheme = theme_bw()) +\n",
    "  facet_grid( GROUP ~ TIMEPOINT, labeller = \"label_both\")"
   ]
  },
  {
   "cell_type": "markdown",
   "id": "06c71f73",
   "metadata": {},
   "source": [
    "### Calculate ANOVA statistics table with post hoc corrections "
   ]
  },
  {
   "cell_type": "code",
   "execution_count": null,
   "id": "f219460b",
   "metadata": {},
   "outputs": [],
   "source": [
    "pwc <- lp %>% \n",
    "  group_by(DAY) %>%\n",
    "      emmeans_test(RESULT ~ GROUP, model = model, \n",
    "            comparisons = comparisons,\n",
    "                   p.adjust.method = post_hoc_method) "
   ]
  },
  {
   "cell_type": "markdown",
   "id": "934e4b5e",
   "metadata": {},
   "source": [
    "### List most significant differences between groups"
   ]
  },
  {
   "cell_type": "code",
   "execution_count": null,
   "id": "e51e690e",
   "metadata": {},
   "outputs": [],
   "source": [
    "pwc %>% filter(p.adj < 0.1) %>% arrange (p.adj) %>% print"
   ]
  },
  {
   "cell_type": "markdown",
   "id": "f44895bf",
   "metadata": {},
   "source": [
    "### Add formatted P-value for graphics"
   ]
  },
  {
   "cell_type": "code",
   "execution_count": null,
   "id": "cb7cc09d",
   "metadata": {},
   "outputs": [],
   "source": [
    "pwc$p.format <- p_format(pwc$p, accuracy = 0.0001, leading.zero = FALSE)\n",
    "head(pwc)"
   ]
  },
  {
   "cell_type": "markdown",
   "id": "9e038805",
   "metadata": {},
   "source": [
    "## Plot all data on one graph"
   ]
  },
  {
   "cell_type": "code",
   "execution_count": null,
   "id": "cac5b504",
   "metadata": {},
   "outputs": [],
   "source": [
    "acPage(w1=15, h1=10)\n",
    "\n",
    "x_max <- max(lp$TIMEPOINT) + 1\n",
    "days <- order(unique(lp$TIMEPOINT), decreasing=F)\n",
    "\n",
    "p <- ggline(lp, \n",
    "            x = \"TIMEPOINT\",\n",
    "            y = \"RESULT\", \n",
    "            size = 1.5,            \n",
    "            color = \"GROUP\",\n",
    "            shape = \"GROUP\",\n",
    "            point.size = 5,\n",
    "            linetype = \"GROUP\",\n",
    "            ylim = c(0, max_res),\n",
    "            add = c(\"mean_se\", \"jitter\" ),\n",
    "            add.params = list(width = 0.1, shape = 15),\n",
    "            palette = \"GROUP\"\n",
    "            )  +\n",
    "    geom_point(size = 3, aes(color = GROUP, shape = GROUP)) +\n",
    "    xlab(\"Time after IS injection, days\") +\n",
    "    ylab(\"Tactile threshold, g\") +\n",
    "    ggtitle( sprintf( \"von Frey behavior tests in %s paws\", tolower (paw))) +\n",
    "    theme(text = element_text(size=20, color = \"black\", angle = 0, hjust = .5, vjust = 0, face = \"italic\"),\n",
    "    axis.text.x = element_text(hjust=1)) +\n",
    "    geom_hline(yintercept=5, linetype=\"dashed\", color = \"orange\", size=1.2) +\n",
    "    scale_y_continuous(breaks= 0 : round(max_res) * max_res/3, expand = expansion(mult = c(0, 0.1))  ) +\n",
    "    scale_x_continuous(breaks= 0 : x_max * 1) \n",
    "plot(p)"
   ]
  },
  {
   "cell_type": "code",
   "execution_count": null,
   "id": "8158977d",
   "metadata": {},
   "outputs": [],
   "source": [
    "### Plot this graph into a PDF file"
   ]
  },
  {
   "cell_type": "code",
   "execution_count": null,
   "id": "bf6c1d37",
   "metadata": {},
   "outputs": [],
   "source": [
    "pdf(sprintf(\"vonFrey plot.pdf\"), width = 15, height = 10)\n",
    "plot(p)\n",
    "dev.off()"
   ]
  },
  {
   "cell_type": "markdown",
   "id": "daa00c34",
   "metadata": {},
   "source": [
    "### Ensure X axis coordinates correctly mapped"
   ]
  },
  {
   "cell_type": "code",
   "execution_count": null,
   "id": "cfa8abaf",
   "metadata": {},
   "outputs": [],
   "source": [
    "pwc <- pwc %>% mutate(x = as.numeric(DAY), xmin = as.numeric(strtoi(DAY)), xmax = as.numeric(strtoi(DAY)) + 0.32) %>% arrange(x)"
   ]
  },
  {
   "cell_type": "markdown",
   "id": "47c4f81d",
   "metadata": {},
   "source": [
    "## Plot graphs for individual comparisons and save in PDF files"
   ]
  },
  {
   "cell_type": "code",
   "execution_count": null,
   "id": "0ed3b713",
   "metadata": {},
   "outputs": [],
   "source": [
    "acPage(w1=12, h1=7)\n",
    "\n",
    "for (i in 1:nrow(meta)){\n",
    "\n",
    "lp_plot <- lp %>% filter ( GROUP == meta$TREATMENT[i] | GROUP == meta$REFERENCE[i] ) \n",
    "pwc.f <- pwc %>% filter(group1 == meta$TREATMENT[i] & group2 == meta$REFERENCE[i])\n",
    "    \n",
    "pp <- ggline(\n",
    "            lp_plot, \n",
    "            y = \"RESULT\", \n",
    "            x = \"TIMEPOINT\", \n",
    "            color = \"GROUP\", \n",
    "            ylim = c(0, max_res + 1),\n",
    "            linetype = \"GROUP\",\n",
    "            size = 1.5, binwidth=0.1, \n",
    "            add = c(\"mean_se\"),\n",
    "            palette = c(\"red3\", \"blue1\"),\n",
    "            ) +  scale_x_continuous(breaks = 0:21*1) +\n",
    "    stat_pvalue_manual( \n",
    "            pwc.f, \n",
    "            label = \"p.adj.signif\",\n",
    "            position = position_dodge(0.6), \n",
    "            remove.bracket = T,\n",
    "            size = 11,\n",
    "            y.position = 15.5,\n",
    "            hide.ns = T,\n",
    "            color = \"black\"\n",
    "            ) +\n",
    "    geom_point(aes(shape = GROUP, color = GROUP, size = 10), alpha = 5/10, show.legend = F) +\n",
    "    xlab(label = \"Time after IS injection, days\") +\n",
    "    ylab(label = \"Tactile threshold, g\") +\n",
    "    ggtitle( sprintf( \"%s vs %s IS by von Frey tests in %s %s paws. Mean\\u00B1SE, %s post-hoc\", \n",
    "                     meta$TREATMENT[i], meta$REFERENCE[i], species, tolower (paw), str_to_title(post_hoc_method))) +\n",
    "    theme_classic() +\n",
    "    geom_hline(yintercept=pain_threshold, linetype=\"dashed\", color = \"orange\", size=1.2) +\n",
    "    theme(text = element_text(size=16, color = \"black\", angle = 0, hjust = .5, vjust = 0, face = \"italic\")) +\n",
    "    geom_text(aes(label=ifelse(label_id & RESULT<=pain_threshold,as.character(ANIMAL_ID),'')),hjust = 0, vjust = 1.5, size = 4)\n",
    "\n",
    "    plot(pp)\n",
    "\n",
    "    pdf(sprintf(\"vonFrey plot %s vs %s in %s %s paw.pdf\", meta$TREATMENT[i], meta$REFERENCE[i], species, tolower (paw)), width = 12, height = 7)\n",
    "        plot(pp)\n",
    "    dev.off()\n",
    "}"
   ]
  },
  {
   "cell_type": "code",
   "execution_count": null,
   "id": "9ff40888",
   "metadata": {},
   "outputs": [],
   "source": [
    "for (i in 1:nrow(meta)){\n",
    "sprintf(\"Significance scores for %s vs %s, post-hoc %s\", meta$TREATMENT[i], meta$REFERENCE[i], post_hoc_method) %>% print\n",
    "pwc %>% filter(group1 == meta$TREATMENT[i] & group2 == meta$REFERENCE[i]) %>% \n",
    "    mutate (DAY = as.integer(DAY)) %>% \n",
    "    arrange (DAY) %>% \n",
    "    select (DAY, group1, group2, p, p.adj, p.adj.signif) %>%\n",
    "    print\n",
    "}\n",
    "pwc <- pwc %>% arrange (group1, group2, DAY) %>% print"
   ]
  },
  {
   "cell_type": "markdown",
   "id": "ab4cffa0",
   "metadata": {},
   "source": [
    "### Write results in file with **Results.** prefix"
   ]
  },
  {
   "cell_type": "code",
   "execution_count": null,
   "id": "abe8ea57",
   "metadata": {},
   "outputs": [],
   "source": [
    "write_xlsx(list(data = x, meta = meta, stats = pwc), res_file)"
   ]
  },
  {
   "cell_type": "code",
   "execution_count": null,
   "id": "bf3e5bf6",
   "metadata": {},
   "outputs": [],
   "source": [
    "sessionInfo()"
   ]
  },
  {
   "cell_type": "code",
   "execution_count": null,
   "id": "3f5ff88d",
   "metadata": {},
   "outputs": [],
   "source": []
  }
 ],
 "metadata": {
  "kernelspec": {
   "display_name": "R",
   "language": "R",
   "name": "ir"
  },
  "language_info": {
   "codemirror_mode": "r",
   "file_extension": ".r",
   "mimetype": "text/x-r-source",
   "name": "R",
   "pygments_lexer": "r",
   "version": "4.1.2"
  }
 },
 "nbformat": 4,
 "nbformat_minor": 5
}
