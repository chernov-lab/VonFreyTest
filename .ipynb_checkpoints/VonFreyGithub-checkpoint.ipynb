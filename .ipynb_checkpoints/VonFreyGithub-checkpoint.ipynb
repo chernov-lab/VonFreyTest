{
 "cells": [
  {
   "cell_type": "markdown",
   "id": "0fa6505d",
   "metadata": {},
   "source": [
    "# Von Frey XO sequence calculator and plotter\n",
    "\n",
    "### This R script is developend in Andrei V. Chernov's Lab at the University of California San Diego in 2022.\n",
    "\n",
    "#### Version 0.1. https://github.com/chernov-lab/VonFreyTest\n",
    "\n",
    "#### The script is based on experimental work in Drs. T.L. Yaksch (UCSD) and V.I. Shubayev (UCSD).\n",
    "\n",
    "##### Parametric data were derived from: \n",
    "S R Chaplan  1 , F W Bach, J W Pogrel, J M Chung, T L Yaksh\n",
    "Quantitative assessment of tactile allodynia in the rat paw\n",
    "J Neurosci Methods, 1994 Jul;53(1):55-63. doi: 10.1016/0165-0270(94)90144-9.\n"
   ]
  },
  {
   "cell_type": "markdown",
   "id": "52eda6b7",
   "metadata": {},
   "source": [
    "## Provide file name of the excel file that includes **data** and **meta** tabs\n",
    "### The **data** tab stores observation and last filament results\n",
    "### The **meta** tab establishes comparison pairs"
   ]
  },
  {
   "cell_type": "code",
   "execution_count": 4,
   "id": "4ca7a98b",
   "metadata": {},
   "outputs": [],
   "source": [
    "data_file <- \"test_data.xlsx\"  # <<<- provide excel file name with VF data. File should be uploaded in the main folder"
   ]
  },
  {
   "cell_type": "markdown",
   "id": "96c39ff7",
   "metadata": {},
   "source": [
    "## Set up test parameters:"
   ]
  },
  {
   "cell_type": "code",
   "execution_count": 5,
   "id": "de4c177a",
   "metadata": {},
   "outputs": [],
   "source": [
    "paw <- 'LEFT' #'RIGHT',  # define paw to use\n",
    "sex <- \"female\"  # define sex of animals if needed. Assign \"\" is sex is not defined\n",
    "species <- \"rat\" # define species of animal rat or mouse\n",
    "res_file <- paste('result', data_file, sep='.')  # result file\n",
    "post_hoc_method <- \"bonferroni\" # Allowed values include \"holm\", \"hochberg\", \"hommel\", \"bonferroni\", \"BH\", \"BY\", \"fdr\", \"none\". If you don't want to adjust the p value (not recommended), use p.adjust.method = \"none\".\n",
    "label_id <- F # set TRUE if want to label animal IDs below threshold"
   ]
  },
  {
   "cell_type": "code",
   "execution_count": 6,
   "id": "658ee1aa",
   "metadata": {},
   "outputs": [
    {
     "name": "stderr",
     "output_type": "stream",
     "text": [
      "\n",
      "Attaching package: ‘dplyr’\n",
      "\n",
      "\n",
      "The following objects are masked from ‘package:stats’:\n",
      "\n",
      "    filter, lag\n",
      "\n",
      "\n",
      "The following objects are masked from ‘package:base’:\n",
      "\n",
      "    intersect, setdiff, setequal, union\n",
      "\n",
      "\n",
      "── \u001b[1mAttaching packages\u001b[22m ─────────────────────────────────────── tidyverse 1.3.1 ──\n",
      "\n",
      "\u001b[32m✔\u001b[39m \u001b[34mtibble \u001b[39m 3.1.6     \u001b[32m✔\u001b[39m \u001b[34mstringr\u001b[39m 1.4.0\n",
      "\u001b[32m✔\u001b[39m \u001b[34mtidyr  \u001b[39m 1.1.4     \u001b[32m✔\u001b[39m \u001b[34mforcats\u001b[39m 0.5.1\n",
      "\u001b[32m✔\u001b[39m \u001b[34mpurrr  \u001b[39m 0.3.4     \n",
      "\n",
      "── \u001b[1mConflicts\u001b[22m ────────────────────────────────────────── tidyverse_conflicts() ──\n",
      "\u001b[31m✖\u001b[39m \u001b[34mdplyr\u001b[39m::\u001b[32mfilter()\u001b[39m masks \u001b[34mstats\u001b[39m::filter()\n",
      "\u001b[31m✖\u001b[39m \u001b[34mdplyr\u001b[39m::\u001b[32mlag()\u001b[39m    masks \u001b[34mstats\u001b[39m::lag()\n",
      "\n",
      "\n",
      "Attaching package: ‘rstatix’\n",
      "\n",
      "\n",
      "The following object is masked from ‘package:stats’:\n",
      "\n",
      "    filter\n",
      "\n",
      "\n",
      "\n",
      "Attaching package: ‘lubridate’\n",
      "\n",
      "\n",
      "The following objects are masked from ‘package:base’:\n",
      "\n",
      "    date, intersect, setdiff, union\n",
      "\n",
      "\n"
     ]
    }
   ],
   "source": [
    "library(readr)\n",
    "library(ggplot2)\n",
    "library(ggpubr)\n",
    "library(ggiraphExtra)\n",
    "library(dplyr)\n",
    "library(tidyverse)\n",
    "library(rstatix)\n",
    "library(DescTools)\n",
    "library(readxl)\n",
    "library(writexl)\n",
    "library(lubridate)\n",
    "library(emmeans)\n",
    "library(ggpubr)"
   ]
  },
  {
   "cell_type": "markdown",
   "id": "4bed4091",
   "metadata": {},
   "source": [
    "### Define some custom functions"
   ]
  },
  {
   "cell_type": "code",
   "execution_count": 7,
   "id": "ca2a3b71",
   "metadata": {},
   "outputs": [],
   "source": [
    "`%notin%` <- Negate(`%in%`)\n",
    "\n",
    "acPage = function(w1=12, h1=6, r1=1, c1=1, m1=2, m2=2, m3=2, m4=2){\n",
    "  options(repr.plot.width=w1, repr.plot.height= h1) \n",
    "  par(mfrow=c(r1,c1), mar=c(m1,m2,m3,m4))\n",
    "}"
   ]
  },
  {
   "cell_type": "markdown",
   "id": "8d3c961c",
   "metadata": {},
   "source": [
    "### Set on-screen plotting parameters"
   ]
  },
  {
   "cell_type": "code",
   "execution_count": 8,
   "id": "936cfdfa",
   "metadata": {},
   "outputs": [],
   "source": [
    "acPage()"
   ]
  },
  {
   "cell_type": "code",
   "execution_count": 9,
   "id": "6bf728b0",
   "metadata": {},
   "outputs": [],
   "source": [
    "# Folder definitions\n",
    "main_folder = \"\"\n",
    "data_folder <- \"files\"\n",
    "par_folder <- \"parameters\"\n",
    "\n",
    "sex <- toupper(sex)\n",
    "\n",
    "if (species == \"rat\"){\n",
    "    pain_threshold <- 5\n",
    "    max_res <- 15\n",
    "}"
   ]
  },
  {
   "cell_type": "markdown",
   "id": "b6255ec2",
   "metadata": {},
   "source": [
    "### Read species specific parameters \n",
    "### Perform Von Frey Test calculations"
   ]
  },
  {
   "cell_type": "code",
   "execution_count": 10,
   "id": "3991fd9c",
   "metadata": {},
   "outputs": [],
   "source": [
    "XO_file <- paste(species, \"final.previous.filaments.XO.csv\", sep='.')\n",
    "stat_file <- paste(species, \"observation-statistics.csv\", sep='.')\n",
    "\n",
    "observation_table <- read.csv(file.path(par_folder, stat_file), row.names=1, stringsAsFactors=FALSE)\n",
    "XO.table <- read.csv(file.path(par_folder, XO_file), row.names=1, stringsAsFactors=FALSE) #, col_types = \"nnn\")\n",
    "\n",
    "VonFrey = function(obs='', last=0){\n",
    "    obs <- toupper(obs)\n",
    "    res <- 0\n",
    "    if (obs == '' | last == 0) { return (-1)} \n",
    "    else if (obs == 'OOOOO' & last == 5.18) { res <- max_res } \n",
    "    else if (obs == 'XXXX' & last == 3.61) { res <- 0.2 }\n",
    "    else if (length(which(rownames(XO.table) == last)) == 0 | length(which(rownames(observation_table) == obs))== 0) { return (-1)}\n",
    "    else {\n",
    "    a <- substr(obs, nchar(obs)-1, nchar(obs)-1)\n",
    "    prev <- XO.table[which(rownames(XO.table) == last), a]\n",
    "    dif <- abs(last - prev)\n",
    "    p50 <- last + dif * observation_table[which(rownames(observation_table) == obs),'STATISTIC']\n",
    "    res <- (10**p50)/10000\n",
    "    if (res > 15) { res <- max_res }\n",
    "    if (res < 0.2) { res <- 0.20 }\n",
    "    return(as.numeric(sprintf(\"%.2f\", res)))\n",
    "    }\n",
    "}\n",
    "TruncateObservation = function(obs='', met=2){\n",
    "    obs <- toupper(obs)\n",
    "    if (obs == '') { return (\"\") } \n",
    "    if (met == 2) { return (obs) }\n",
    "    if (met == 1) {  # Jenny's short method\n",
    "    len <- nchar(obs)  \n",
    "    Xpos <- StrPos(obs, 'X') \n",
    "    if (is.na(Xpos)) { return (obs) }   \n",
    "    obs1 <- substr(obs, Xpos, len)\n",
    " \n",
    "    return (obs1)\n",
    "    }\n",
    "}"
   ]
  },
  {
   "cell_type": "markdown",
   "id": "a0493323",
   "metadata": {},
   "source": [
    "## Read DATA and META files from main folder"
   ]
  },
  {
   "cell_type": "code",
   "execution_count": 11,
   "id": "84407ac7",
   "metadata": {},
   "outputs": [],
   "source": [
    "x <- readxl::read_excel(data_file, sheet = \"data\") \n",
    "meta <- readxl::read_excel(data_file, sheet = \"meta\")"
   ]
  },
  {
   "cell_type": "code",
   "execution_count": 12,
   "id": "4a0fd73a",
   "metadata": {},
   "outputs": [
    {
     "data": {
      "text/html": [
       "<table class=\"dataframe\">\n",
       "<caption>A tibble: 6 × 11</caption>\n",
       "<thead>\n",
       "\t<tr><th scope=col>DATE</th><th scope=col>SPECIES</th><th scope=col>SEX</th><th scope=col>GROUP</th><th scope=col>ANIMAL_ID</th><th scope=col>CAGE</th><th scope=col>NOTCH</th><th scope=col>PAW</th><th scope=col>TIMEPOINT</th><th scope=col>OBSERVATION</th><th scope=col>LAST</th></tr>\n",
       "\t<tr><th scope=col>&lt;date&gt;</th><th scope=col>&lt;chr&gt;</th><th scope=col>&lt;chr&gt;</th><th scope=col>&lt;chr&gt;</th><th scope=col>&lt;chr&gt;</th><th scope=col>&lt;dbl&gt;</th><th scope=col>&lt;chr&gt;</th><th scope=col>&lt;chr&gt;</th><th scope=col>&lt;dbl&gt;</th><th scope=col>&lt;chr&gt;</th><th scope=col>&lt;dbl&gt;</th></tr>\n",
       "</thead>\n",
       "<tbody>\n",
       "\t<tr><td>2022-01-13</td><td>RAT</td><td>FEMALE</td><td>A</td><td>AC225</td><td>1</td><td>L</td><td>LEFT</td><td>0</td><td>OOOOXXOXO</td><td>4.74</td></tr>\n",
       "\t<tr><td>2022-01-13</td><td>RAT</td><td>FEMALE</td><td>A</td><td>AC226</td><td>1</td><td>R</td><td>LEFT</td><td>0</td><td>OOOOO    </td><td>5.18</td></tr>\n",
       "\t<tr><td>2022-01-13</td><td>RAT</td><td>FEMALE</td><td>A</td><td>AC227</td><td>1</td><td>N</td><td>LEFT</td><td>0</td><td>OOOOXOXOX</td><td>5.18</td></tr>\n",
       "\t<tr><td>2022-01-14</td><td>RAT</td><td>FEMALE</td><td>A</td><td>AC340</td><td>7</td><td>L</td><td>LEFT</td><td>0</td><td>OOOOXXOXO</td><td>4.74</td></tr>\n",
       "\t<tr><td>2022-01-14</td><td>RAT</td><td>FEMALE</td><td>A</td><td>AC341</td><td>7</td><td>R</td><td>LEFT</td><td>0</td><td>OOOOXXOXO</td><td>4.74</td></tr>\n",
       "\t<tr><td>2022-01-14</td><td>RAT</td><td>FEMALE</td><td>A</td><td>AC342</td><td>7</td><td>N</td><td>LEFT</td><td>0</td><td>OOOOXOXXO</td><td>4.74</td></tr>\n",
       "</tbody>\n",
       "</table>\n"
      ],
      "text/latex": [
       "A tibble: 6 × 11\n",
       "\\begin{tabular}{lllllllllll}\n",
       " DATE & SPECIES & SEX & GROUP & ANIMAL\\_ID & CAGE & NOTCH & PAW & TIMEPOINT & OBSERVATION & LAST\\\\\n",
       " <date> & <chr> & <chr> & <chr> & <chr> & <dbl> & <chr> & <chr> & <dbl> & <chr> & <dbl>\\\\\n",
       "\\hline\n",
       "\t 2022-01-13 & RAT & FEMALE & A & AC225 & 1 & L & LEFT & 0 & OOOOXXOXO & 4.74\\\\\n",
       "\t 2022-01-13 & RAT & FEMALE & A & AC226 & 1 & R & LEFT & 0 & OOOOO     & 5.18\\\\\n",
       "\t 2022-01-13 & RAT & FEMALE & A & AC227 & 1 & N & LEFT & 0 & OOOOXOXOX & 5.18\\\\\n",
       "\t 2022-01-14 & RAT & FEMALE & A & AC340 & 7 & L & LEFT & 0 & OOOOXXOXO & 4.74\\\\\n",
       "\t 2022-01-14 & RAT & FEMALE & A & AC341 & 7 & R & LEFT & 0 & OOOOXXOXO & 4.74\\\\\n",
       "\t 2022-01-14 & RAT & FEMALE & A & AC342 & 7 & N & LEFT & 0 & OOOOXOXXO & 4.74\\\\\n",
       "\\end{tabular}\n"
      ],
      "text/markdown": [
       "\n",
       "A tibble: 6 × 11\n",
       "\n",
       "| DATE &lt;date&gt; | SPECIES &lt;chr&gt; | SEX &lt;chr&gt; | GROUP &lt;chr&gt; | ANIMAL_ID &lt;chr&gt; | CAGE &lt;dbl&gt; | NOTCH &lt;chr&gt; | PAW &lt;chr&gt; | TIMEPOINT &lt;dbl&gt; | OBSERVATION &lt;chr&gt; | LAST &lt;dbl&gt; |\n",
       "|---|---|---|---|---|---|---|---|---|---|---|\n",
       "| 2022-01-13 | RAT | FEMALE | A | AC225 | 1 | L | LEFT | 0 | OOOOXXOXO | 4.74 |\n",
       "| 2022-01-13 | RAT | FEMALE | A | AC226 | 1 | R | LEFT | 0 | OOOOO     | 5.18 |\n",
       "| 2022-01-13 | RAT | FEMALE | A | AC227 | 1 | N | LEFT | 0 | OOOOXOXOX | 5.18 |\n",
       "| 2022-01-14 | RAT | FEMALE | A | AC340 | 7 | L | LEFT | 0 | OOOOXXOXO | 4.74 |\n",
       "| 2022-01-14 | RAT | FEMALE | A | AC341 | 7 | R | LEFT | 0 | OOOOXXOXO | 4.74 |\n",
       "| 2022-01-14 | RAT | FEMALE | A | AC342 | 7 | N | LEFT | 0 | OOOOXOXXO | 4.74 |\n",
       "\n"
      ],
      "text/plain": [
       "  DATE       SPECIES SEX    GROUP ANIMAL_ID CAGE NOTCH PAW  TIMEPOINT\n",
       "1 2022-01-13 RAT     FEMALE A     AC225     1    L     LEFT 0        \n",
       "2 2022-01-13 RAT     FEMALE A     AC226     1    R     LEFT 0        \n",
       "3 2022-01-13 RAT     FEMALE A     AC227     1    N     LEFT 0        \n",
       "4 2022-01-14 RAT     FEMALE A     AC340     7    L     LEFT 0        \n",
       "5 2022-01-14 RAT     FEMALE A     AC341     7    R     LEFT 0        \n",
       "6 2022-01-14 RAT     FEMALE A     AC342     7    N     LEFT 0        \n",
       "  OBSERVATION LAST\n",
       "1 OOOOXXOXO   4.74\n",
       "2 OOOOO       5.18\n",
       "3 OOOOXOXOX   5.18\n",
       "4 OOOOXXOXO   4.74\n",
       "5 OOOOXXOXO   4.74\n",
       "6 OOOOXOXXO   4.74"
      ]
     },
     "metadata": {},
     "output_type": "display_data"
    },
    {
     "data": {
      "text/html": [
       "<table class=\"dataframe\">\n",
       "<caption>A tibble: 6 × 5</caption>\n",
       "<thead>\n",
       "\t<tr><th scope=col>COMPARISON</th><th scope=col>TREATMENT</th><th scope=col>REFERENCE</th><th scope=col>SPECIES</th><th scope=col>SEX</th></tr>\n",
       "\t<tr><th scope=col>&lt;dbl&gt;</th><th scope=col>&lt;chr&gt;</th><th scope=col>&lt;chr&gt;</th><th scope=col>&lt;chr&gt;</th><th scope=col>&lt;chr&gt;</th></tr>\n",
       "</thead>\n",
       "<tbody>\n",
       "\t<tr><td>1</td><td>B</td><td>E</td><td>RAT</td><td>FEMALE</td></tr>\n",
       "\t<tr><td>2</td><td>B</td><td>A</td><td>RAT</td><td>FEMALE</td></tr>\n",
       "\t<tr><td>3</td><td>C</td><td>E</td><td>RAT</td><td>FEMALE</td></tr>\n",
       "\t<tr><td>4</td><td>C</td><td>A</td><td>RAT</td><td>FEMALE</td></tr>\n",
       "\t<tr><td>5</td><td>D</td><td>E</td><td>RAT</td><td>FEMALE</td></tr>\n",
       "\t<tr><td>6</td><td>D</td><td>A</td><td>RAT</td><td>FEMALE</td></tr>\n",
       "</tbody>\n",
       "</table>\n"
      ],
      "text/latex": [
       "A tibble: 6 × 5\n",
       "\\begin{tabular}{lllll}\n",
       " COMPARISON & TREATMENT & REFERENCE & SPECIES & SEX\\\\\n",
       " <dbl> & <chr> & <chr> & <chr> & <chr>\\\\\n",
       "\\hline\n",
       "\t 1 & B & E & RAT & FEMALE\\\\\n",
       "\t 2 & B & A & RAT & FEMALE\\\\\n",
       "\t 3 & C & E & RAT & FEMALE\\\\\n",
       "\t 4 & C & A & RAT & FEMALE\\\\\n",
       "\t 5 & D & E & RAT & FEMALE\\\\\n",
       "\t 6 & D & A & RAT & FEMALE\\\\\n",
       "\\end{tabular}\n"
      ],
      "text/markdown": [
       "\n",
       "A tibble: 6 × 5\n",
       "\n",
       "| COMPARISON &lt;dbl&gt; | TREATMENT &lt;chr&gt; | REFERENCE &lt;chr&gt; | SPECIES &lt;chr&gt; | SEX &lt;chr&gt; |\n",
       "|---|---|---|---|---|\n",
       "| 1 | B | E | RAT | FEMALE |\n",
       "| 2 | B | A | RAT | FEMALE |\n",
       "| 3 | C | E | RAT | FEMALE |\n",
       "| 4 | C | A | RAT | FEMALE |\n",
       "| 5 | D | E | RAT | FEMALE |\n",
       "| 6 | D | A | RAT | FEMALE |\n",
       "\n"
      ],
      "text/plain": [
       "  COMPARISON TREATMENT REFERENCE SPECIES SEX   \n",
       "1 1          B         E         RAT     FEMALE\n",
       "2 2          B         A         RAT     FEMALE\n",
       "3 3          C         E         RAT     FEMALE\n",
       "4 4          C         A         RAT     FEMALE\n",
       "5 5          D         E         RAT     FEMALE\n",
       "6 6          D         A         RAT     FEMALE"
      ]
     },
     "metadata": {},
     "output_type": "display_data"
    }
   ],
   "source": [
    "x <- x %>% rename_with(toupper)\n",
    "meta <- meta %>% rename_with(toupper)\n",
    "\n",
    "# convert key parameters to uppercase\n",
    "x <- x %>% dplyr::mutate (\n",
    "                DATE = ymd(DATE),\n",
    "                SEX = toupper(SEX), \n",
    "                OBSERVATION = toupper(OBSERVATION),\n",
    "                PAW = toupper(PAW))\n",
    "x <- x %>% dplyr::arrange(SEX, TIMEPOINT, PAW)\n",
    "head(x)\n",
    "head(meta)"
   ]
  },
  {
   "cell_type": "markdown",
   "id": "4c5d8026",
   "metadata": {},
   "source": [
    "### filter by specific sex if **sex** is assigned"
   ]
  },
  {
   "cell_type": "code",
   "execution_count": 13,
   "id": "7882c772",
   "metadata": {},
   "outputs": [],
   "source": [
    "if (sex != \"\"){ x <- x %>% filter (SEX == sex) }"
   ]
  },
  {
   "cell_type": "markdown",
   "id": "ca984220",
   "metadata": {},
   "source": [
    "### Calculate **Von Frey Test** values"
   ]
  },
  {
   "cell_type": "code",
   "execution_count": 14,
   "id": "1047d6c4",
   "metadata": {},
   "outputs": [],
   "source": [
    "x <- x %>% dplyr::mutate(RESULT = mapply(VonFrey, OBSERVATION, LAST))"
   ]
  },
  {
   "cell_type": "code",
   "execution_count": 15,
   "id": "9e229557",
   "metadata": {},
   "outputs": [
    {
     "data": {
      "text/html": [
       "<table class=\"dataframe\">\n",
       "<caption>A tibble: 5 × 12</caption>\n",
       "<thead>\n",
       "\t<tr><th scope=col>DATE</th><th scope=col>SPECIES</th><th scope=col>SEX</th><th scope=col>GROUP</th><th scope=col>ANIMAL_ID</th><th scope=col>CAGE</th><th scope=col>NOTCH</th><th scope=col>PAW</th><th scope=col>TIMEPOINT</th><th scope=col>OBSERVATION</th><th scope=col>LAST</th><th scope=col>RESULT</th></tr>\n",
       "\t<tr><th scope=col>&lt;date&gt;</th><th scope=col>&lt;chr&gt;</th><th scope=col>&lt;chr&gt;</th><th scope=col>&lt;chr&gt;</th><th scope=col>&lt;chr&gt;</th><th scope=col>&lt;dbl&gt;</th><th scope=col>&lt;chr&gt;</th><th scope=col>&lt;chr&gt;</th><th scope=col>&lt;dbl&gt;</th><th scope=col>&lt;chr&gt;</th><th scope=col>&lt;dbl&gt;</th><th scope=col>&lt;dbl&gt;</th></tr>\n",
       "</thead>\n",
       "<tbody>\n",
       "\t<tr><td>2022-01-13</td><td>RAT</td><td>FEMALE</td><td>A</td><td>AC225</td><td>1</td><td>L</td><td>LEFT</td><td>0</td><td>OOOOXXOXO</td><td>4.74</td><td> 8.34</td></tr>\n",
       "\t<tr><td>2022-01-13</td><td>RAT</td><td>FEMALE</td><td>A</td><td>AC226</td><td>1</td><td>R</td><td>LEFT</td><td>0</td><td>OOOOO    </td><td>5.18</td><td>15.00</td></tr>\n",
       "\t<tr><td>2022-01-13</td><td>RAT</td><td>FEMALE</td><td>A</td><td>AC227</td><td>1</td><td>N</td><td>LEFT</td><td>0</td><td>OOOOXOXOX</td><td>5.18</td><td>11.66</td></tr>\n",
       "\t<tr><td>2022-01-14</td><td>RAT</td><td>FEMALE</td><td>A</td><td>AC340</td><td>7</td><td>L</td><td>LEFT</td><td>0</td><td>OOOOXXOXO</td><td>4.74</td><td> 8.34</td></tr>\n",
       "\t<tr><td>2022-01-14</td><td>RAT</td><td>FEMALE</td><td>A</td><td>AC341</td><td>7</td><td>R</td><td>LEFT</td><td>0</td><td>OOOOXXOXO</td><td>4.74</td><td> 8.34</td></tr>\n",
       "</tbody>\n",
       "</table>\n"
      ],
      "text/latex": [
       "A tibble: 5 × 12\n",
       "\\begin{tabular}{llllllllllll}\n",
       " DATE & SPECIES & SEX & GROUP & ANIMAL\\_ID & CAGE & NOTCH & PAW & TIMEPOINT & OBSERVATION & LAST & RESULT\\\\\n",
       " <date> & <chr> & <chr> & <chr> & <chr> & <dbl> & <chr> & <chr> & <dbl> & <chr> & <dbl> & <dbl>\\\\\n",
       "\\hline\n",
       "\t 2022-01-13 & RAT & FEMALE & A & AC225 & 1 & L & LEFT & 0 & OOOOXXOXO & 4.74 &  8.34\\\\\n",
       "\t 2022-01-13 & RAT & FEMALE & A & AC226 & 1 & R & LEFT & 0 & OOOOO     & 5.18 & 15.00\\\\\n",
       "\t 2022-01-13 & RAT & FEMALE & A & AC227 & 1 & N & LEFT & 0 & OOOOXOXOX & 5.18 & 11.66\\\\\n",
       "\t 2022-01-14 & RAT & FEMALE & A & AC340 & 7 & L & LEFT & 0 & OOOOXXOXO & 4.74 &  8.34\\\\\n",
       "\t 2022-01-14 & RAT & FEMALE & A & AC341 & 7 & R & LEFT & 0 & OOOOXXOXO & 4.74 &  8.34\\\\\n",
       "\\end{tabular}\n"
      ],
      "text/markdown": [
       "\n",
       "A tibble: 5 × 12\n",
       "\n",
       "| DATE &lt;date&gt; | SPECIES &lt;chr&gt; | SEX &lt;chr&gt; | GROUP &lt;chr&gt; | ANIMAL_ID &lt;chr&gt; | CAGE &lt;dbl&gt; | NOTCH &lt;chr&gt; | PAW &lt;chr&gt; | TIMEPOINT &lt;dbl&gt; | OBSERVATION &lt;chr&gt; | LAST &lt;dbl&gt; | RESULT &lt;dbl&gt; |\n",
       "|---|---|---|---|---|---|---|---|---|---|---|---|\n",
       "| 2022-01-13 | RAT | FEMALE | A | AC225 | 1 | L | LEFT | 0 | OOOOXXOXO | 4.74 |  8.34 |\n",
       "| 2022-01-13 | RAT | FEMALE | A | AC226 | 1 | R | LEFT | 0 | OOOOO     | 5.18 | 15.00 |\n",
       "| 2022-01-13 | RAT | FEMALE | A | AC227 | 1 | N | LEFT | 0 | OOOOXOXOX | 5.18 | 11.66 |\n",
       "| 2022-01-14 | RAT | FEMALE | A | AC340 | 7 | L | LEFT | 0 | OOOOXXOXO | 4.74 |  8.34 |\n",
       "| 2022-01-14 | RAT | FEMALE | A | AC341 | 7 | R | LEFT | 0 | OOOOXXOXO | 4.74 |  8.34 |\n",
       "\n"
      ],
      "text/plain": [
       "  DATE       SPECIES SEX    GROUP ANIMAL_ID CAGE NOTCH PAW  TIMEPOINT\n",
       "1 2022-01-13 RAT     FEMALE A     AC225     1    L     LEFT 0        \n",
       "2 2022-01-13 RAT     FEMALE A     AC226     1    R     LEFT 0        \n",
       "3 2022-01-13 RAT     FEMALE A     AC227     1    N     LEFT 0        \n",
       "4 2022-01-14 RAT     FEMALE A     AC340     7    L     LEFT 0        \n",
       "5 2022-01-14 RAT     FEMALE A     AC341     7    R     LEFT 0        \n",
       "  OBSERVATION LAST RESULT\n",
       "1 OOOOXXOXO   4.74  8.34 \n",
       "2 OOOOO       5.18 15.00 \n",
       "3 OOOOXOXOX   5.18 11.66 \n",
       "4 OOOOXXOXO   4.74  8.34 \n",
       "5 OOOOXXOXO   4.74  8.34 "
      ]
     },
     "metadata": {},
     "output_type": "display_data"
    }
   ],
   "source": [
    "head(x, 5)"
   ]
  },
  {
   "cell_type": "markdown",
   "id": "93151e3d",
   "metadata": {},
   "source": [
    "### Check for errors reported by Von Frey calculator\n",
    "#### Negative RESULTs (-1) indicate an error most likely related to incorrect XO data entry"
   ]
  },
  {
   "cell_type": "code",
   "execution_count": 16,
   "id": "857a986a",
   "metadata": {},
   "outputs": [
    {
     "data": {
      "text/html": [
       "<table class=\"dataframe\">\n",
       "<caption>A tibble: 0 × 12</caption>\n",
       "<thead>\n",
       "\t<tr><th scope=col>DATE</th><th scope=col>SPECIES</th><th scope=col>SEX</th><th scope=col>GROUP</th><th scope=col>ANIMAL_ID</th><th scope=col>CAGE</th><th scope=col>NOTCH</th><th scope=col>PAW</th><th scope=col>TIMEPOINT</th><th scope=col>OBSERVATION</th><th scope=col>LAST</th><th scope=col>RESULT</th></tr>\n",
       "\t<tr><th scope=col>&lt;date&gt;</th><th scope=col>&lt;chr&gt;</th><th scope=col>&lt;chr&gt;</th><th scope=col>&lt;chr&gt;</th><th scope=col>&lt;chr&gt;</th><th scope=col>&lt;dbl&gt;</th><th scope=col>&lt;chr&gt;</th><th scope=col>&lt;chr&gt;</th><th scope=col>&lt;dbl&gt;</th><th scope=col>&lt;chr&gt;</th><th scope=col>&lt;dbl&gt;</th><th scope=col>&lt;dbl&gt;</th></tr>\n",
       "</thead>\n",
       "<tbody>\n",
       "</tbody>\n",
       "</table>\n"
      ],
      "text/latex": [
       "A tibble: 0 × 12\n",
       "\\begin{tabular}{llllllllllll}\n",
       " DATE & SPECIES & SEX & GROUP & ANIMAL\\_ID & CAGE & NOTCH & PAW & TIMEPOINT & OBSERVATION & LAST & RESULT\\\\\n",
       " <date> & <chr> & <chr> & <chr> & <chr> & <dbl> & <chr> & <chr> & <dbl> & <chr> & <dbl> & <dbl>\\\\\n",
       "\\hline\n",
       "\\end{tabular}\n"
      ],
      "text/markdown": [
       "\n",
       "A tibble: 0 × 12\n",
       "\n",
       "| DATE &lt;date&gt; | SPECIES &lt;chr&gt; | SEX &lt;chr&gt; | GROUP &lt;chr&gt; | ANIMAL_ID &lt;chr&gt; | CAGE &lt;dbl&gt; | NOTCH &lt;chr&gt; | PAW &lt;chr&gt; | TIMEPOINT &lt;dbl&gt; | OBSERVATION &lt;chr&gt; | LAST &lt;dbl&gt; | RESULT &lt;dbl&gt; |\n",
       "|---|---|---|---|---|---|---|---|---|---|---|---|\n",
       "\n"
      ],
      "text/plain": [
       "     DATE SPECIES SEX GROUP ANIMAL_ID CAGE NOTCH PAW TIMEPOINT OBSERVATION LAST\n",
       "     RESULT"
      ]
     },
     "metadata": {},
     "output_type": "display_data"
    }
   ],
   "source": [
    "x %>% filter(RESULT < 0)"
   ]
  },
  {
   "cell_type": "markdown",
   "id": "87795a87",
   "metadata": {},
   "source": [
    "### Prepare dataset for ANOVA analysis and plotting"
   ]
  },
  {
   "cell_type": "code",
   "execution_count": 17,
   "id": "d9e67454",
   "metadata": {},
   "outputs": [],
   "source": [
    "x <- x %>% filter(RESULT > 0)\n",
    "lp_x_names <- c('SEX', 'GROUP', 'PAW', 'TIMEPOINT', 'RESULT', 'ANIMAL_ID')\n",
    "lp_meta_names <- c('COMPARISON', 'TREATMENT', 'REFERENCE')"
   ]
  },
  {
   "cell_type": "code",
   "execution_count": 18,
   "id": "4e414e39",
   "metadata": {},
   "outputs": [
    {
     "name": "stdout",
     "output_type": "stream",
     "text": [
      "\u001b[90m# A tibble: 420 × 8\u001b[39m\n",
      "   SEX    GROUP PAW   TIMEPOINT RESULT ANIMAL_ID DAY      ID\n",
      "   \u001b[3m\u001b[90m<chr>\u001b[39m\u001b[23m  \u001b[3m\u001b[90m<fct>\u001b[39m\u001b[23m \u001b[3m\u001b[90m<chr>\u001b[39m\u001b[23m     \u001b[3m\u001b[90m<int>\u001b[39m\u001b[23m  \u001b[3m\u001b[90m<dbl>\u001b[39m\u001b[23m \u001b[3m\u001b[90m<chr>\u001b[39m\u001b[23m     \u001b[3m\u001b[90m<fct>\u001b[39m\u001b[23m \u001b[3m\u001b[90m<int>\u001b[39m\u001b[23m\n",
      "\u001b[90m 1\u001b[39m FEMALE A     LEFT          0   8.34 AC225     0         1\n",
      "\u001b[90m 2\u001b[39m FEMALE A     LEFT          0  15    AC226     0         2\n",
      "\u001b[90m 3\u001b[39m FEMALE A     LEFT          0  11.7  AC227     0         3\n",
      "\u001b[90m 4\u001b[39m FEMALE A     LEFT          0   8.34 AC340     0         4\n",
      "\u001b[90m 5\u001b[39m FEMALE A     LEFT          0   8.34 AC341     0         5\n",
      "\u001b[90m 6\u001b[39m FEMALE A     LEFT          0   9.49 AC342     0         6\n",
      "\u001b[90m 7\u001b[39m FEMALE B     LEFT          0   8.34 AC228     0         7\n",
      "\u001b[90m 8\u001b[39m FEMALE B     LEFT          0  13.8  AC229     0         8\n",
      "\u001b[90m 9\u001b[39m FEMALE B     LEFT          0  15    AC330     0         9\n",
      "\u001b[90m10\u001b[39m FEMALE B     LEFT          0  11.7  AC343     0        10\n",
      "\u001b[90m# … with 410 more rows\u001b[39m\n"
     ]
    }
   ],
   "source": [
    "lp <- x %>% \n",
    "    select(all_of(lp_x_names)) %>% \n",
    "        mutate(DAY = TIMEPOINT, \n",
    "               TIMEPOINT = as.integer(TIMEPOINT),\n",
    "               DAY = factor(TIMEPOINT),\n",
    "               GROUP = factor(GROUP),\n",
    "               ID = row_number()) %>% \n",
    "        print"
   ]
  },
  {
   "cell_type": "code",
   "execution_count": 19,
   "id": "8f8df372",
   "metadata": {},
   "outputs": [
    {
     "name": "stdout",
     "output_type": "stream",
     "text": [
      "\u001b[90m# A tibble: 6 × 5\u001b[39m\n",
      "  COMPARISON TREATMENT REFERENCE SPECIES SEX   \n",
      "       \u001b[3m\u001b[90m<dbl>\u001b[39m\u001b[23m \u001b[3m\u001b[90m<chr>\u001b[39m\u001b[23m     \u001b[3m\u001b[90m<chr>\u001b[39m\u001b[23m     \u001b[3m\u001b[90m<chr>\u001b[39m\u001b[23m   \u001b[3m\u001b[90m<chr>\u001b[39m\u001b[23m \n",
      "\u001b[90m1\u001b[39m          1 B         E         RAT     FEMALE\n",
      "\u001b[90m2\u001b[39m          2 B         A         RAT     FEMALE\n",
      "\u001b[90m3\u001b[39m          3 C         E         RAT     FEMALE\n",
      "\u001b[90m4\u001b[39m          4 C         A         RAT     FEMALE\n",
      "\u001b[90m5\u001b[39m          5 D         E         RAT     FEMALE\n",
      "\u001b[90m6\u001b[39m          6 D         A         RAT     FEMALE\n"
     ]
    }
   ],
   "source": [
    "print(meta)"
   ]
  },
  {
   "cell_type": "markdown",
   "id": "bd6a2a44",
   "metadata": {},
   "source": [
    "### Set up comparison pairs"
   ]
  },
  {
   "cell_type": "code",
   "execution_count": 21,
   "id": "288d10b0",
   "metadata": {},
   "outputs": [
    {
     "name": "stdout",
     "output_type": "stream",
     "text": [
      "\u001b[90m# A tibble: 6 × 5\u001b[39m\n",
      "  COMPARISON TREATMENT REFERENCE SPECIES SEX   \n",
      "  \u001b[3m\u001b[90m<chr>\u001b[39m\u001b[23m      \u001b[3m\u001b[90m<chr>\u001b[39m\u001b[23m     \u001b[3m\u001b[90m<chr>\u001b[39m\u001b[23m     \u001b[3m\u001b[90m<chr>\u001b[39m\u001b[23m   \u001b[3m\u001b[90m<chr>\u001b[39m\u001b[23m \n",
      "\u001b[90m1\u001b[39m B-E        B         E         RAT     FEMALE\n",
      "\u001b[90m2\u001b[39m B-A        B         A         RAT     FEMALE\n",
      "\u001b[90m3\u001b[39m C-E        C         E         RAT     FEMALE\n",
      "\u001b[90m4\u001b[39m C-A        C         A         RAT     FEMALE\n",
      "\u001b[90m5\u001b[39m D-E        D         E         RAT     FEMALE\n",
      "\u001b[90m6\u001b[39m D-A        D         A         RAT     FEMALE\n"
     ]
    }
   ],
   "source": [
    "meta <- meta %>% mutate(COMPARISON = mapply(sprintf, \"%s-%s\", TREATMENT, REFERENCE)) %>% print"
   ]
  },
  {
   "cell_type": "code",
   "execution_count": 31,
   "id": "16afac8e",
   "metadata": {},
   "outputs": [
    {
     "data": {
      "text/html": [
       "<table class=\"dataframe\">\n",
       "<caption>A data.frame: 2 × 6</caption>\n",
       "<thead>\n",
       "\t<tr><th></th><th scope=col>X1</th><th scope=col>X2</th><th scope=col>X3</th><th scope=col>X4</th><th scope=col>X5</th><th scope=col>X6</th></tr>\n",
       "\t<tr><th></th><th scope=col>&lt;chr&gt;</th><th scope=col>&lt;chr&gt;</th><th scope=col>&lt;chr&gt;</th><th scope=col>&lt;chr&gt;</th><th scope=col>&lt;chr&gt;</th><th scope=col>&lt;chr&gt;</th></tr>\n",
       "</thead>\n",
       "<tbody>\n",
       "\t<tr><th scope=row>TREATMENT</th><td>B</td><td>B</td><td>C</td><td>C</td><td>D</td><td>D</td></tr>\n",
       "\t<tr><th scope=row>REFERENCE</th><td>E</td><td>A</td><td>E</td><td>A</td><td>E</td><td>A</td></tr>\n",
       "</tbody>\n",
       "</table>\n"
      ],
      "text/latex": [
       "A data.frame: 2 × 6\n",
       "\\begin{tabular}{r|llllll}\n",
       "  & X1 & X2 & X3 & X4 & X5 & X6\\\\\n",
       "  & <chr> & <chr> & <chr> & <chr> & <chr> & <chr>\\\\\n",
       "\\hline\n",
       "\tTREATMENT & B & B & C & C & D & D\\\\\n",
       "\tREFERENCE & E & A & E & A & E & A\\\\\n",
       "\\end{tabular}\n"
      ],
      "text/markdown": [
       "\n",
       "A data.frame: 2 × 6\n",
       "\n",
       "| <!--/--> | X1 &lt;chr&gt; | X2 &lt;chr&gt; | X3 &lt;chr&gt; | X4 &lt;chr&gt; | X5 &lt;chr&gt; | X6 &lt;chr&gt; |\n",
       "|---|---|---|---|---|---|---|\n",
       "| TREATMENT | B | B | C | C | D | D |\n",
       "| REFERENCE | E | A | E | A | E | A |\n",
       "\n"
      ],
      "text/plain": [
       "          X1 X2 X3 X4 X5 X6\n",
       "TREATMENT B  B  C  C  D  D \n",
       "REFERENCE E  A  E  A  E  A "
      ]
     },
     "metadata": {},
     "output_type": "display_data"
    }
   ],
   "source": [
    "meta %>% select (TREATMENT, REFERENCE) %>% t %>% data.frame"
   ]
  },
  {
   "cell_type": "markdown",
   "id": "f8afd943",
   "metadata": {},
   "source": [
    "### Filter by LEFT or RIGHT paw"
   ]
  },
  {
   "cell_type": "code",
   "execution_count": null,
   "id": "401d7cbf",
   "metadata": {},
   "outputs": [],
   "source": [
    "if (paw != \"\") { lp <- lp %>% filter(PAW == paw) }"
   ]
  },
  {
   "cell_type": "code",
   "execution_count": null,
   "id": "8a262c69",
   "metadata": {},
   "outputs": [],
   "source": [
    "min_res <- lp %>% select (RESULT) %>% min %>% print\n",
    "max_res <- lp %>% select (RESULT) %>% max %>% print"
   ]
  },
  {
   "cell_type": "markdown",
   "id": "3828136a",
   "metadata": {},
   "source": [
    "## Summary statistics\n",
    "Compute some summary statistics (count, mean and sd) of the variable weight organized by groups:"
   ]
  },
  {
   "cell_type": "markdown",
   "id": "2f18b9f0",
   "metadata": {},
   "source": [
    "# Two-way ANOVA\n",
    "\n",
    "## Summary statistics\n",
    "Compute the mean and the SD (standard deviation) of the score by groups:"
   ]
  },
  {
   "cell_type": "code",
   "execution_count": null,
   "id": "a1da157f",
   "metadata": {},
   "outputs": [],
   "source": [
    "lp_stat <- lp %>%\n",
    "  group_by(GROUP, DAY) %>%\n",
    "        get_summary_stats(RESULT, type = \"mean_se\") %>% \n",
    "        mutate (TIMEPOINT = as.numeric(strtoi(DAY))) %>% \n",
    "        print"
   ]
  },
  {
   "cell_type": "markdown",
   "id": "eccdea21",
   "metadata": {},
   "source": [
    "## Visualization\n",
    "Create a box plot of the score by gender levels, colored by education levels:"
   ]
  },
  {
   "cell_type": "code",
   "execution_count": null,
   "id": "14056057",
   "metadata": {},
   "outputs": [],
   "source": []
  },
  {
   "cell_type": "code",
   "execution_count": null,
   "id": "c8cd875f",
   "metadata": {},
   "outputs": [],
   "source": [
    "acPage(w1=15, h1=6)\n",
    "bxp <- lp %>% ggboxplot(\n",
    "    x = \"GROUP\", y = \"RESULT\",\n",
    "    color = \"GROUP\", \n",
    "    palette = \"jco\",\n",
    "    ) +\n",
    "    rremove(\"x.text\") +\n",
    "    geom_hline(yintercept=5, linetype=\"dashed\", color = \"orange\", size=1) +\n",
    "    facet_grid( ~ TIMEPOINT, labeller = \"label_both\")\n",
    "\n",
    "plot(bxp)"
   ]
  },
  {
   "cell_type": "code",
   "execution_count": null,
   "id": "60d0e46e",
   "metadata": {},
   "outputs": [],
   "source": [
    "lp_outs <- lp %>%\n",
    "  group_by(GROUP, DAY) %>%\n",
    "    identify_outliers(RESULT) %>% \n",
    "        filter(is.extreme == TRUE) %>% print()\n",
    "\n",
    "lp <- lp %>% anti_join(lp_outs, by = \"ID\") %>% print()"
   ]
  },
  {
   "cell_type": "markdown",
   "id": "bc0458ea",
   "metadata": {},
   "source": [
    "### Build the linear model"
   ]
  },
  {
   "cell_type": "code",
   "execution_count": null,
   "id": "8680e903",
   "metadata": {},
   "outputs": [],
   "source": [
    "model  <- lm(RESULT ~ GROUP * DAY, data = lp)"
   ]
  },
  {
   "cell_type": "markdown",
   "id": "c19eadb6",
   "metadata": {},
   "source": [
    "### Create a QQ plot of residuals"
   ]
  },
  {
   "cell_type": "code",
   "execution_count": null,
   "id": "41e8c9ca",
   "metadata": {},
   "outputs": [],
   "source": [
    "model %>% residuals %>% ggqqplot"
   ]
  },
  {
   "cell_type": "markdown",
   "id": "037530b2",
   "metadata": {},
   "source": [
    "### Compute Shapiro-Wilk test of normality"
   ]
  },
  {
   "cell_type": "code",
   "execution_count": null,
   "id": "5ba7d36c",
   "metadata": {},
   "outputs": [],
   "source": [
    "model %>% residuals %>% shapiro_test"
   ]
  },
  {
   "cell_type": "code",
   "execution_count": null,
   "id": "7a6399f2",
   "metadata": {},
   "outputs": [],
   "source": [
    "lp %>% group_by(GROUP) %>% shapiro_test(RESULT) %>% print"
   ]
  },
  {
   "cell_type": "code",
   "execution_count": null,
   "id": "68e2103b",
   "metadata": {},
   "outputs": [],
   "source": [
    "ggqqplot(lp, \"RESULT\", ggtheme = theme_bw()) +\n",
    "  facet_grid( GROUP ~ TIMEPOINT, labeller = \"label_both\")"
   ]
  },
  {
   "cell_type": "markdown",
   "id": "0d975e08",
   "metadata": {},
   "source": [
    "### Calculate ANOVA statistics table with post hoc corrections "
   ]
  },
  {
   "cell_type": "code",
   "execution_count": null,
   "id": "fe7c5763",
   "metadata": {},
   "outputs": [],
   "source": [
    "pwc <- lp %>% \n",
    "  group_by(DAY) %>%\n",
    "      emmeans_test(RESULT ~ GROUP, model = model, \n",
    "            comparisons = comp, #list(meta$COMPARISON), # list(c(\"MBP84_104\", \"PBS\"), c(\"OC_WT\", \"PBS\"), c(\"MBP84_104\", \"SCRs\"), c(\"OC_WT\", \"SCRs\")),\n",
    "                   p.adjust.method = post_hoc_method) "
   ]
  },
  {
   "cell_type": "markdown",
   "id": "7373a140",
   "metadata": {},
   "source": [
    "### List most significant differences between groups"
   ]
  },
  {
   "cell_type": "code",
   "execution_count": null,
   "id": "5e4c0595",
   "metadata": {},
   "outputs": [],
   "source": [
    "pwc %>% filter(p.adj < 0.1) %>% arrange (p.adj) %>% print"
   ]
  },
  {
   "cell_type": "markdown",
   "id": "49ad7e0d",
   "metadata": {},
   "source": [
    "### Add formatted P-value for graphics"
   ]
  },
  {
   "cell_type": "code",
   "execution_count": null,
   "id": "0ab2cb3e",
   "metadata": {},
   "outputs": [],
   "source": [
    "pwc$p.format <- p_format(pwc$p, accuracy = 0.0001, leading.zero = FALSE)\n",
    "head(pwc)"
   ]
  },
  {
   "cell_type": "markdown",
   "id": "e715ade5",
   "metadata": {},
   "source": [
    "## Plot all data on one graph"
   ]
  },
  {
   "cell_type": "code",
   "execution_count": null,
   "id": "d47cee90",
   "metadata": {},
   "outputs": [],
   "source": [
    "acPage(w1=15, h1=10)\n",
    "\n",
    "x_max <- max(lp$TIMEPOINT) + 1\n",
    "days <- order(unique(lp$TIMEPOINT), decreasing=F)\n",
    "\n",
    "p <- ggline(lp, \n",
    "            x = \"TIMEPOINT\",\n",
    "            y = \"RESULT\", \n",
    "            size = 1.5,            \n",
    "            color = \"GROUP\",\n",
    "            shape = \"GROUP\",\n",
    "            point.size = 5,\n",
    "            linetype = \"GROUP\",\n",
    "            ylim = c(0, max_res),\n",
    "            add = c(\"mean_se\", \"jitter\" ),\n",
    "            add.params = list(width = 0.1, shape = 15),\n",
    "            palette = \"GROUP\"\n",
    "            )  +\n",
    "    geom_point(size = 3, aes(color = GROUP, shape = GROUP)) +\n",
    "    xlab(\"Time after IS injection, days\") +\n",
    "    ylab(\"Tactile threshold, g\") +\n",
    "    ggtitle( sprintf( \"von Frey behavior tests in %s paws\", tolower (paw))) +\n",
    "    theme(text = element_text(size=20, color = \"black\", angle = 0, hjust = .5, vjust = 0, face = \"italic\"),\n",
    "    axis.text.x = element_text(hjust=1)) +\n",
    "    geom_hline(yintercept=5, linetype=\"dashed\", color = \"orange\", size=1.2) +\n",
    "    scale_y_continuous(breaks= 0 : round(max_res) * max_res/3, expand = expansion(mult = c(0, 0.1))  ) +\n",
    "    scale_x_continuous(breaks= 0 : x_max * 1) \n",
    "plot(p)"
   ]
  },
  {
   "cell_type": "code",
   "execution_count": null,
   "id": "48b914ab",
   "metadata": {},
   "outputs": [],
   "source": [
    "### Plot this graph into a PDF file"
   ]
  },
  {
   "cell_type": "code",
   "execution_count": null,
   "id": "9433928c",
   "metadata": {},
   "outputs": [],
   "source": [
    "pdf(sprintf(\"vonFrey plot.pdf\"), width = 15, height = 10)\n",
    "plot(p)\n",
    "dev.off()"
   ]
  },
  {
   "cell_type": "markdown",
   "id": "fd7aae53",
   "metadata": {},
   "source": [
    "### Ensure X axis coordinates correctly mapped"
   ]
  },
  {
   "cell_type": "code",
   "execution_count": null,
   "id": "cd3c3eb3",
   "metadata": {},
   "outputs": [],
   "source": [
    "pwc <- pwc %>% mutate(x = as.numeric(DAY), xmin = as.numeric(strtoi(DAY)), xmax = as.numeric(strtoi(DAY)) + 0.32) %>% arrange(x)"
   ]
  },
  {
   "cell_type": "markdown",
   "id": "7d26fa74",
   "metadata": {},
   "source": [
    "## Plot graphs for individual comparisons and save in PDF files"
   ]
  },
  {
   "cell_type": "code",
   "execution_count": null,
   "id": "a8ebb4a7",
   "metadata": {},
   "outputs": [],
   "source": [
    "acPage(w1=12, h1=7)\n",
    "\n",
    "for (i in 1:nrow(meta)){\n",
    "\n",
    "lp_plot <- lp %>% filter ( GROUP == meta$TREATMENT[i] | GROUP == meta$REFERENCE[i] ) \n",
    "pwc.f <- pwc %>% filter(group1 == meta$TREATMENT[i] & group2 == meta$REFERENCE[i])\n",
    "    \n",
    "pp <- ggline(\n",
    "            lp_plot, \n",
    "            y = \"RESULT\", \n",
    "            x = \"TIMEPOINT\", \n",
    "            color = \"GROUP\", \n",
    "            ylim = c(0, max_res + 1),\n",
    "            linetype = \"GROUP\",\n",
    "            size = 1.5, binwidth=0.1, \n",
    "            add = c(\"mean_se\"),\n",
    "            palette = c(\"red3\", \"blue1\"),\n",
    "            ) +  scale_x_continuous(breaks = 0:21*1) +\n",
    "    stat_pvalue_manual( \n",
    "            pwc.f, \n",
    "            label = \"p.adj.signif\",\n",
    "            position = position_dodge(0.6), \n",
    "            remove.bracket = T,\n",
    "            size = 11,\n",
    "            y.position = 15.5,\n",
    "            hide.ns = T,\n",
    "            color = \"black\"\n",
    "            ) +\n",
    "    geom_point(aes(shape = GROUP, color = GROUP, size = 10), alpha = 5/10, show.legend = F) +\n",
    "    xlab(label = \"Time after IS injection, days\") +\n",
    "    ylab(label = \"Tactile threshold, g\") +\n",
    "    ggtitle( sprintf( \"%s vs %s IS by von Frey tests in %s %s paws. Mean\\u00B1SE, %s post-hoc\", \n",
    "                     meta$TREATMENT[i], meta$REFERENCE[i], species, tolower (paw), str_to_title(post_hoc_method))) +\n",
    "    theme_classic() +\n",
    "    geom_hline(yintercept=pain_threshold, linetype=\"dashed\", color = \"orange\", size=1.2) +\n",
    "    theme(text = element_text(size=16, color = \"black\", angle = 0, hjust = .5, vjust = 0, face = \"italic\")) +\n",
    "    geom_text(aes(label=ifelse(label_id & RESULT<=pain_threshold,as.character(ANIMAL_ID),'')),hjust = 0, vjust = 1.5, size = 4)\n",
    "\n",
    "    plot(pp)\n",
    "\n",
    "    pdf(sprintf(\"vonFrey plot %s vs %s in %s %s paw.pdf\", meta$TREATMENT[i], meta$REFERENCE[i], species, tolower (paw)), width = 12, height = 7)\n",
    "        plot(pp)\n",
    "    dev.off()\n",
    "}"
   ]
  },
  {
   "cell_type": "code",
   "execution_count": null,
   "id": "a152462d",
   "metadata": {},
   "outputs": [],
   "source": [
    "for (i in 1:nrow(meta)){\n",
    "sprintf(\"Significance scores for %s vs %s, post-hoc %s\", meta$TREATMENT[i], meta$REFERENCE[i], post_hoc_method) %>% print\n",
    "pwc %>% filter(group1 == meta$TREATMENT[i] & group2 == meta$REFERENCE[i]) %>% \n",
    "    mutate (DAY = as.integer(DAY)) %>% \n",
    "    arrange (DAY) %>% \n",
    "    select (DAY, group1, group2, p, p.adj, p.adj.signif) %>%\n",
    "    print\n",
    "}\n",
    "\n",
    "pwc <- pwc %>% arrange (group1, group2, DAY) %>% print"
   ]
  },
  {
   "cell_type": "markdown",
   "id": "5d37b6dd",
   "metadata": {},
   "source": [
    "### Write results in file with **Results.** prefix"
   ]
  },
  {
   "cell_type": "code",
   "execution_count": null,
   "id": "6e2a05ac",
   "metadata": {},
   "outputs": [],
   "source": [
    "write_xlsx(list(data = x, meta = meta, stats = pwc), res_file)"
   ]
  },
  {
   "cell_type": "code",
   "execution_count": null,
   "id": "168f535c",
   "metadata": {},
   "outputs": [],
   "source": []
  },
  {
   "cell_type": "code",
   "execution_count": null,
   "id": "2724890a",
   "metadata": {},
   "outputs": [],
   "source": []
  }
 ],
 "metadata": {
  "kernelspec": {
   "display_name": "R",
   "language": "R",
   "name": "ir"
  },
  "language_info": {
   "codemirror_mode": "r",
   "file_extension": ".r",
   "mimetype": "text/x-r-source",
   "name": "R",
   "pygments_lexer": "r",
   "version": "4.1.2"
  }
 },
 "nbformat": 4,
 "nbformat_minor": 5
}
